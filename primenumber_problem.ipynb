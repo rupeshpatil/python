{
 "cells": [
  {
   "cell_type": "code",
   "execution_count": 8,
   "metadata": {
    "collapsed": false
   },
   "outputs": [
    {
     "name": "stdout",
     "output_type": "stream",
     "text": [
      "global param local\n"
     ]
    }
   ],
   "source": [
    "g = \"global\"\n",
    "def outer(p='param'):\n",
    "    l = \"local\"\n",
    "    def inner():\n",
    "        print(g, p,l)\n",
    "    inner()\n",
    "    \n",
    "outer()\n"
   ]
  },
  {
   "cell_type": "code",
   "execution_count": 42,
   "metadata": {
    "collapsed": false
   },
   "outputs": [
    {
     "name": "stdout",
     "output_type": "stream",
     "text": [
      "CGSCCO\n"
     ]
    }
   ],
   "source": [
    "def prime_number(x):\n",
    "    n = 0\n",
    "    numbers = [False for i in range(2,(int(x/2) +1)) if x % i == 0]\n",
    "    if len(numbers) < 1:\n",
    "        return x\n",
    "    else:\n",
    "        None\n",
    "\n",
    "primes = []\n",
    "for v in range(65,125):\n",
    "    if prime_number(v):\n",
    "        primes.append(v)\n",
    "letters = list(\"AFREEN\")\n",
    "for i, l in enumerate(letters):\n",
    "    smallest_diff = 125\n",
    "    for prime in primes:\n",
    "        if abs(ord(l) - prime) < smallest_diff:\n",
    "            smallest_diff = abs(ord(l) - prime)\n",
    "            letters[i] = chr(prime)\n",
    "print(\"\".join(letters))\n",
    "\n"
   ]
  },
  {
   "cell_type": "code",
   "execution_count": null,
   "metadata": {
    "collapsed": true
   },
   "outputs": [],
   "source": []
  }
 ],
 "metadata": {
  "kernelspec": {
   "display_name": "Python 3",
   "language": "python",
   "name": "python3"
  },
  "language_info": {
   "codemirror_mode": {
    "name": "ipython",
    "version": 3
   },
   "file_extension": ".py",
   "mimetype": "text/x-python",
   "name": "python",
   "nbconvert_exporter": "python",
   "pygments_lexer": "ipython3",
   "version": "3.4.3"
  }
 },
 "nbformat": 4,
 "nbformat_minor": 0
}

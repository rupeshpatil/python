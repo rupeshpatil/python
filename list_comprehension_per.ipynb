{
 "cells": [
  {
   "cell_type": "code",
   "execution_count": 1,
   "metadata": {},
   "outputs": [
    {
     "name": "stdout",
     "output_type": "stream",
     "text": [
      "0.01693800000000012\n",
      "0.05492299999999983\n",
      "0.029196\n"
     ]
    }
   ],
   "source": [
    "# List Comprehension against normal for loop \n",
    "\n",
    "import time\n",
    "# Faster\n",
    "start = time.clock()\n",
    "evens = [ i for i in range(100000) if i%2 == 0]\n",
    "end = time.clock()\n",
    "print(end - start)\n",
    "\n",
    "# Append result into list is slower than list complrehesion\n",
    "# Less faster\n",
    "start = time.clock()\n",
    "i = 0\n",
    "even = []\n",
    "while i < 100000:\n",
    "    if i %2 == 0:\n",
    "        even.append(i)\n",
    "    i += 1\n",
    "end = time.clock()\n",
    "\n",
    "print(end-start)\n",
    "\n",
    "# generator use case with saving memory and with faster way     \n",
    "def lst_append_gen(number):\n",
    "    i = 0\n",
    "    while i < 100000: \n",
    "        if i %2 == 0:\n",
    "            yield i\n",
    "        i += 1\n",
    "\n",
    "\n",
    "start = time.clock()\n",
    "for p in lst_append_gen(100000):\n",
    "    pass\n",
    "end = time.clock()\n",
    "print(end-start)\n"
   ]
  }
 ],
 "metadata": {
  "kernelspec": {
   "display_name": "Python 3",
   "language": "python",
   "name": "python3"
  },
  "language_info": {
   "codemirror_mode": {
    "name": "ipython",
    "version": 3
   },
   "file_extension": ".py",
   "mimetype": "text/x-python",
   "name": "python",
   "nbconvert_exporter": "python",
   "pygments_lexer": "ipython3",
   "version": "3.6.8"
  }
 },
 "nbformat": 4,
 "nbformat_minor": 2
}

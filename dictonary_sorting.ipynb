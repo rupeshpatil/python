{
 "cells": [
  {
   "cell_type": "code",
   "execution_count": 4,
   "metadata": {},
   "outputs": [
    {
     "data": {
      "text/plain": [
       "[(1, 5, 8), (6, 2, 4), (9, 7, 5)]"
      ]
     },
     "execution_count": 4,
     "metadata": {},
     "output_type": "execute_result"
    }
   ],
   "source": [
    "#Sorting Examples\n",
    "\n",
    "# Sort list of tuples by position\n",
    "import operator\n",
    "somelist = [(1, 5, 8), (6, 2, 4), (9, 7, 5)]\n",
    "somelist.sort(key=operator.itemgetter(0))\n",
    "somelist"
   ]
  },
  {
   "cell_type": "code",
   "execution_count": 26,
   "metadata": {},
   "outputs": [
    {
     "name": "stdout",
     "output_type": "stream",
     "text": [
      "Sorted dictionary using key :-  ['a', 'c', 'd', 'e']\n",
      "sorted dict using key : -  [('a', 1), ('c', 4), ('d', 2.3), ('e', 2.0)]\n",
      "sorted dict using value : -  [1, 2.0, 2.3, 4]\n",
      "sorted dict using value : -  [4, 2.3, 2.0, 1]\n",
      "sorted dict using value : -  [('a', 1), ('e', 2.0), ('d', 2.3), ('c', 4)]\n",
      "sorted dict using value : -  {'a': 1, 'e': 2.0, 'd': 2.3, 'c': 4}\n"
     ]
    }
   ],
   "source": [
    "# Sorting dictionary example\n",
    "\n",
    "test_dict = {'a':1,'d':2.3, 'c':4,'e':2.0}\n",
    "sorted_dict=sorted(test_dict)\n",
    "# Sorted dictionary and will return only keys as list\n",
    "print(\"Sorted dictionary using key :- \", sorted_dict)\n",
    "# Sorted dict using key and return with list of tuples\n",
    "print(\"sorted dict using key : - \", sorted(test_dict.items()))\n",
    "# Sorted dict using value and return with list of values\n",
    "print(\"sorted dict using value : - \", sorted(test_dict.values()))\n",
    "# Sorted dict using value and return with list of values in reverse order\n",
    "print(\"sorted dict using value : - \", sorted(test_dict.values(), reverse=True))\n",
    "# Sorted dictonary using value and will return sorted list of tuple \n",
    "print(\"sorted dict using value : - \", sorted(test_dict.items(), key = lambda x : x[1]))\n",
    "# Sorted dictionary using value and return the result as dictionary\n",
    "print(\"sorted dict using value : - \", {data[0]: data[1] for data in sorted(test_dict.items(), key = lambda x : x[1])})\n",
    "\n"
   ]
  },
  {
   "cell_type": "code",
   "execution_count": 38,
   "metadata": {},
   "outputs": [
    {
     "name": "stdout",
     "output_type": "stream",
     "text": [
      "[{'a': 4, 'b': 2.0}, {'a': 6, 'b': 2.1}, {'a': 1, 'b': 2.3}]\n",
      "[{'a': 4, 'b': 2.0}, {'a': 6, 'b': 2.1}, {'a': 1, 'b': 2.3}]\n",
      "[{'a': 1, 'b': 2.3}, {'a': 4, 'b': 2.0}, {'a': 6, 'b': 2.1}]\n"
     ]
    }
   ],
   "source": [
    "import operator\n",
    "\n",
    "# Sort list of dictonary using any key\n",
    "sample_dict = [{'a':1,'b':2.3}, {'a':4,'b':2.0}, {'a':6,'b':2.1}]\n",
    "\n",
    "# Sort list using sorted function\n",
    "sorted_lst = sorted(sample_dict, key=lambda x: x['b'])\n",
    "print(sorted_lst)\n",
    "\n",
    "# Making copy of list of dictionary to avoid sortting confusion\n",
    "sample_dict_copy = sample_dict\n",
    "# Sort list dictionary using operator \n",
    "sample_dict_copy.sort(key=operator.itemgetter('b'))\n",
    "print(sample_dict_copy)\n",
    "\n",
    "\n",
    "# Sort a list using list built in sort function\n",
    "sample_dict.sort(key= lambda x: x['a'])\n",
    "print(sample_dict)\n",
    "\n",
    "\n"
   ]
  },
  {
   "cell_type": "code",
   "execution_count": null,
   "metadata": {},
   "outputs": [],
   "source": []
  }
 ],
 "metadata": {
  "kernelspec": {
   "display_name": "Python 3",
   "language": "python",
   "name": "python3"
  },
  "language_info": {
   "codemirror_mode": {
    "name": "ipython",
    "version": 3
   },
   "file_extension": ".py",
   "mimetype": "text/x-python",
   "name": "python",
   "nbconvert_exporter": "python",
   "pygments_lexer": "ipython3",
   "version": "3.6.8"
  }
 },
 "nbformat": 4,
 "nbformat_minor": 2
}

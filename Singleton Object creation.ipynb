{
 "cells": [
  {
   "cell_type": "code",
   "execution_count": 2,
   "metadata": {},
   "outputs": [
    {
     "name": "stdout",
     "output_type": "stream",
     "text": [
      "<__main__.Logging object at 0x7fe1e0043e48>\n",
      "<__main__.Logging object at 0x7fe1e0043e48>\n"
     ]
    }
   ],
   "source": [
    "# Example singleton object creattions.\n",
    "class Logging():\n",
    "    _instance =None\n",
    "    def __new__(cls):\n",
    "        if not cls._instance:\n",
    "            cls._instance = super(Logging, cls).__new__(cls)\n",
    "        return cls._instance\n",
    "\n",
    "a=Logging()\n",
    "print(a)\n",
    "b= Logging()\n",
    "print(b)\n"
   ]
  },
  {
   "cell_type": "code",
   "execution_count": null,
   "metadata": {},
   "outputs": [],
   "source": [
    "# Another way of doing singleton object"
   ]
  },
  {
   "cell_type": "code",
   "execution_count": 3,
   "metadata": {},
   "outputs": [
    {
     "name": "stdout",
     "output_type": "stream",
     "text": [
      "<__main__.Logging object at 0x7fe1d1fc5080>\n",
      "<__main__.Logging object at 0x7fe1d1fc5080>\n"
     ]
    }
   ],
   "source": [
    "\n",
    "class Logging():\n",
    "    def __new__(cls):\n",
    "        # here we are checking cls have instance or not.\n",
    "        if not hasattr(cls, 'instance'):\n",
    "            cls.instance = super(Logging, cls).__new__(cls)\n",
    "        return cls.instance\n",
    "\n",
    "a=Logging()\n",
    "print(a)\n",
    "b= Logging()\n",
    "print(b)\n",
    "\n",
    "\n",
    "\n"
   ]
  },
  {
   "cell_type": "code",
   "execution_count": null,
   "metadata": {},
   "outputs": [],
   "source": []
  }
 ],
 "metadata": {
  "kernelspec": {
   "display_name": "Python 3",
   "language": "python",
   "name": "python3"
  },
  "language_info": {
   "codemirror_mode": {
    "name": "ipython",
    "version": 3
   },
   "file_extension": ".py",
   "mimetype": "text/x-python",
   "name": "python",
   "nbconvert_exporter": "python",
   "pygments_lexer": "ipython3",
   "version": "3.6.9"
  }
 },
 "nbformat": 4,
 "nbformat_minor": 4
}

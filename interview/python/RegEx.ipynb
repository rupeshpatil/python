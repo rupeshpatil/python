{
 "cells": [
  {
   "cell_type": "markdown",
   "metadata": {},
   "source": [
    "\n",
    "#### Metacharacters are characters that are interpreted in a special way by a RegEx engine. Here's a list of metacharacters:\n",
    "\n",
    "#### [] . ^ $ * + ? {} () \\ |\n"
   ]
  },
  {
   "cell_type": "markdown",
   "metadata": {},
   "source": [
    "### [] - Square brackets\n",
    "Square brackets specifies a set of characters you wish to match.\n",
    "\n",
    "\n",
    "Here, [abc] will match if the string you are trying to match contains any of the a, b or c."
   ]
  },
  {
   "cell_type": "code",
   "execution_count": 14,
   "metadata": {},
   "outputs": [
    {
     "name": "stdout",
     "output_type": "stream",
     "text": [
      "Search successful. ['a', 'b', 'c', 'c', 'a']\n"
     ]
    }
   ],
   "source": [
    "# [abc]\n",
    "import re\n",
    "\n",
    "pattern = '[abc]'\n",
    "test_string = 'abc de ca'\n",
    "result = re.findall(pattern, test_string)\n",
    "\n",
    "if result:\n",
    "  print(\"Search successful.\", result)\n",
    "else:\n",
    "  print(\"Search unsuccessful.\")\t"
   ]
  },
  {
   "cell_type": "code",
   "execution_count": 80,
   "metadata": {},
   "outputs": [
    {
     "name": "stdout",
     "output_type": "stream",
     "text": [
      "['1', '1', '4', '1', '8', '8', '6']\n",
      "['H', 'e', 's', 'a', 'i', 'd', 'i', 'n', 's', 'o', 'm', 'e', '_', 'l', 'a', 'n', 'g']\n",
      "['I', 'went', 'to', 'him', 'at', '11', 'A', 'M', 'he', 'said', 'in', 'some_language']\n",
      "[' ', ' ', '*', '*', '*', ' ', ' ', '.']\n"
     ]
    }
   ],
   "source": [
    "import re \n",
    "  \n",
    "# \\d is equivalent to [0-9]. \n",
    "print(re.findall('\\d', \"I went to him at 11 A.M. on 4th July 1886\"))\n",
    "\n",
    "# \\w is equivalent to [a-zA-Z0-9_]. \n",
    "print(re.findall('\\w',\"He said * in some_lang.\")) \n",
    "\n",
    "# \\w+ matches to group of alphanumeric character. \n",
    "p = re.compile('\\w+') \n",
    "print(p.findall(\"I went to him at 11 A.M., he said *** in some_language.\")) \n",
    "\n",
    "# \\W matches to non alphanumeric characters. \n",
    "p = re.compile('\\W') \n",
    "print(p.findall(\"he said *** in some_language.\")) \n",
    "  "
   ]
  },
  {
   "cell_type": "code",
   "execution_count": 19,
   "metadata": {},
   "outputs": [
    {
     "name": "stdout",
     "output_type": "stream",
     "text": [
      "['Words', 'words', 'Words']\n",
      "['Word', 's', 'words', 'Words']\n",
      "['On', '12th', 'Jan', '2016', 'at', '11', '02', 'AM']\n",
      "['On ', 'th Jan ', ', at ', ':', ' AM']\n"
     ]
    }
   ],
   "source": [
    "from re import split \n",
    "  \n",
    "# '\\W+' denotes Non-Alphanumeric Characters or group of characters \n",
    "# Upon finding ',' or whitespace ' ', the split(), splits the string from that point \n",
    "print(split('\\W+', 'Words, words , Words')) \n",
    "print(split('\\W+', \"Word's words Words\")) \n",
    "  \n",
    "# Here ':', ' ' ,',' are not AlphaNumeric thus, the point where splitting occurs \n",
    "print(split('\\W+', 'On 12th Jan 2016, at 11:02 AM')) \n",
    "  \n",
    "# '\\d+' denotes Numeric Characters or group of characters \n",
    "# Splitting occurs at '12', '2016', '11', '02' only \n",
    "print(split('\\d+', 'On 12th Jan 2016, at 11:02 AM')) "
   ]
  },
  {
   "cell_type": "code",
   "execution_count": 20,
   "metadata": {},
   "outputs": [
    {
     "name": "stdout",
     "output_type": "stream",
     "text": [
      "S~*ject has ~*er booked already\n",
      "S~*ject has Uber booked already\n",
      "S~*ject has Uber booked already\n",
      "Baked Beans & Spam\n"
     ]
    }
   ],
   "source": [
    "import re \n",
    "\n",
    "# Regular Expression pattern 'ub' matches the string at \"Subject\" and \"Uber\". \n",
    "# As the CASE has been ignored, using Flag, 'ub' should match twice with the string \n",
    "# Upon matching, 'ub' is replaced by '~*' in \"Subject\", and in \"Uber\", 'Ub' is replaced. \n",
    "print(re.sub('ub', '~*' , 'Subject has Uber booked already', flags = re.IGNORECASE)) \n",
    "\n",
    "# Consider the Case Sensitivity, 'Ub' in \"Uber\", will not be reaplced. \n",
    "print(re.sub('ub', '~*' , 'Subject has Uber booked already')) \n",
    "\n",
    "# As count has been given value 1, the maximum times replacement occurs is 1 \n",
    "print(re.sub('ub', '~*' , 'Subject has Uber booked already', count=1, flags = re.IGNORECASE)) \n",
    "\n",
    "# 'r' before the patter denotes RE, \\s is for start and end of a String. \n",
    "print(re.sub(r'\\sAND\\s', ' & ', 'Baked Beans And Spam', flags=re.IGNORECASE)) \n"
   ]
  },
  {
   "cell_type": "code",
   "execution_count": 21,
   "metadata": {},
   "outputs": [
    {
     "name": "stdout",
     "output_type": "stream",
     "text": [
      "('S~*ject has Uber booked already', 1)\n",
      "('S~*ject has ~*er booked already', 2)\n",
      "2\n",
      "S~*ject has ~*er booked already\n"
     ]
    }
   ],
   "source": [
    "import re \n",
    "print(re.subn('ub', '~*' , 'Subject has Uber booked already')) \n",
    "t = re.subn('ub', '~*' , 'Subject has Uber booked already', flags = re.IGNORECASE) \n",
    "print(t) \n",
    "print(len(t)) \n",
    "\n",
    "# This will give same output as sub() would have \n",
    "print(t[0]) \n"
   ]
  },
  {
   "cell_type": "code",
   "execution_count": 32,
   "metadata": {},
   "outputs": [
    {
     "name": "stdout",
     "output_type": "stream",
     "text": [
      "found word:cat\n"
     ]
    }
   ],
   "source": [
    "import re\n",
    "str = 'an example word:cat!!'\n",
    "match = re.search('word:\\w+', str)\n",
    "# If-statement after search() tests if it succeeded\n",
    "if match:\n",
    "  print ('found', match.group() )## 'found word:cat'\n",
    "else:\n",
    "  print( 'did not find')"
   ]
  },
  {
   "cell_type": "code",
   "execution_count": 48,
   "metadata": {},
   "outputs": [
    {
     "name": "stdout",
     "output_type": "stream",
     "text": [
      "piii\n"
     ]
    }
   ],
   "source": [
    "import re \n",
    "match = re.search(r'pi+', 'dfd piiigipiig dffd') # found, match.group() == \"piii\"\n",
    "if match:\n",
    "    print(match.group())"
   ]
  },
  {
   "cell_type": "code",
   "execution_count": 58,
   "metadata": {},
   "outputs": [
    {
     "name": "stdout",
     "output_type": "stream",
     "text": [
      "1 2\n"
     ]
    }
   ],
   "source": [
    "match = re.search(r'\\d\\s\\d*', 'xx1 2   3xx') # found, match.group() == \"1 2   3\"\n",
    "if match:\n",
    "    print(match.group())\n"
   ]
  },
  {
   "cell_type": "code",
   "execution_count": 72,
   "metadata": {},
   "outputs": [
    {
     "name": "stdout",
     "output_type": "stream",
     "text": [
      "alic2e-b@go1ogle.com\n"
     ]
    }
   ],
   "source": [
    "import re\n",
    "str = 'purple alic2e-b@google.com monkey dishwasher'\n",
    "match = re.search(r'[\\w-]+@[\\w.]+', str)\n",
    "if match:\n",
    "    print(match.group()) ## 'b@google'"
   ]
  },
  {
   "cell_type": "code",
   "execution_count": 76,
   "metadata": {},
   "outputs": [
    {
     "name": "stdout",
     "output_type": "stream",
     "text": [
      "alice-b@google.com\n",
      "alice-b\n",
      "google.com\n"
     ]
    }
   ],
   "source": [
    " str = 'purple alice-b@google.com monkey dishwasher'\n",
    "match = re.search(r'([\\w.-]+)@([\\w.-]+)', str)\n",
    "if match:\n",
    "    print(match.group())  ## 'alice-b@google.com' (the whole match)\n",
    "    print(match.group(1) ) ## 'alice-b' (the username, group 1)\n",
    "    print(match.group(2) ) ## 'google.com' (the host, group 2)"
   ]
  },
  {
   "cell_type": "code",
   "execution_count": 78,
   "metadata": {},
   "outputs": [
    {
     "name": "stdout",
     "output_type": "stream",
     "text": [
      "alice@google.com\n",
      "bob@abc.com\n"
     ]
    }
   ],
   "source": [
    "import re\n",
    "## Suppose we have a text with many email addresses\n",
    "str = 'purple alice@google.com, blah monkey bob@abc.com blah dishwasher'\n",
    "\n",
    "## Here re.findall() returns a list of all the found email strings\n",
    "emails = re.findall(r'[\\w\\.-]+@[\\w\\.-]+', str) ## ['alice@google.com', 'bob@abc.com']\n",
    "for email in emails:\n",
    "# do something with each found email string\n",
    "    print (email)"
   ]
  },
  {
   "cell_type": "code",
   "execution_count": null,
   "metadata": {},
   "outputs": [],
   "source": []
  }
 ],
 "metadata": {
  "kernelspec": {
   "display_name": "Python 3 (ipykernel)",
   "language": "python",
   "name": "python3"
  },
  "language_info": {
   "codemirror_mode": {
    "name": "ipython",
    "version": 3
   },
   "file_extension": ".py",
   "mimetype": "text/x-python",
   "name": "python",
   "nbconvert_exporter": "python",
   "pygments_lexer": "ipython3",
   "version": "3.8.10"
  }
 },
 "nbformat": 4,
 "nbformat_minor": 4
}

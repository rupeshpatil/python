{
 "cells": [
  {
   "cell_type": "code",
   "execution_count": 12,
   "metadata": {},
   "outputs": [
    {
     "name": "stdout",
     "output_type": "stream",
     "text": [
      "[220, 246, 321, 277, 454]\n",
      "[246, 321, 277, 454]\n",
      "[321, 277, 454]\n",
      "[277, 454]\n",
      "False\n"
     ]
    }
   ],
   "source": [
    "lst = [127,220,246,321,277,454]\n",
    "def is_array_sorted(lst):\n",
    "    if len(lst)==1:\n",
    "            return True\n",
    "    print(lst[1:])\n",
    "    if lst[0]<lst[1] and is_array_sorted(lst[1:]):\n",
    "        return True\n",
    "    else:\n",
    "        return False\n",
    "print(is_array_sorted(lst))"
   ]
  },
  {
   "cell_type": "code",
   "execution_count": null,
   "metadata": {},
   "outputs": [],
   "source": []
  }
 ],
 "metadata": {
  "kernelspec": {
   "display_name": "Python 3",
   "language": "python",
   "name": "python3"
  },
  "language_info": {
   "codemirror_mode": {
    "name": "ipython",
    "version": 3
   },
   "file_extension": ".py",
   "mimetype": "text/x-python",
   "name": "python",
   "nbconvert_exporter": "python",
   "pygments_lexer": "ipython3",
   "version": "3.6.9"
  }
 },
 "nbformat": 4,
 "nbformat_minor": 4
}

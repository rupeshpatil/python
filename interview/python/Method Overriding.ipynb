{
 "cells": [
  {
   "cell_type": "code",
   "execution_count": 2,
   "metadata": {},
   "outputs": [
    {
     "name": "stdout",
     "output_type": "stream",
     "text": [
      "derived class 5\n"
     ]
    }
   ],
   "source": [
    "class A: \n",
    "\n",
    "  def display(self, num):\n",
    "     print(\"Base Class\", num)\n",
    "   \n",
    "# Class B inherits Class A\n",
    "class B(A): # Sub Class\n",
    "\n",
    "  def display(self, num):\n",
    "    print (\"derived class\", num)\n",
    "  \n",
    "obj = B()\n",
    "obj.display(5)\n"
   ]
  },
  {
   "cell_type": "code",
   "execution_count": null,
   "metadata": {},
   "outputs": [],
   "source": []
  }
 ],
 "metadata": {
  "kernelspec": {
   "display_name": "Python 3 (ipykernel)",
   "language": "python",
   "name": "python3"
  },
  "language_info": {
   "codemirror_mode": {
    "name": "ipython",
    "version": 3
   },
   "file_extension": ".py",
   "mimetype": "text/x-python",
   "name": "python",
   "nbconvert_exporter": "python",
   "pygments_lexer": "ipython3",
   "version": "3.8.10"
  }
 },
 "nbformat": 4,
 "nbformat_minor": 4
}

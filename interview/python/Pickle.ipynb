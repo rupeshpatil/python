{
 "cells": [
  {
   "cell_type": "code",
   "execution_count": 22,
   "metadata": {},
   "outputs": [
    {
     "name": "stdout",
     "output_type": "stream",
     "text": [
      "['__add__', '__class__', '__contains__', '__delattr__', '__dir__', '__doc__', '__eq__', '__format__', '__ge__', '__getattribute__', '__getitem__', '__getnewargs__', '__gt__', '__hash__', '__init__', '__init_subclass__', '__iter__', '__le__', '__len__', '__lt__', '__mod__', '__mul__', '__ne__', '__new__', '__reduce__', '__reduce_ex__', '__repr__', '__rmod__', '__rmul__', '__setattr__', '__sizeof__', '__str__', '__subclasshook__', 'capitalize', 'center', 'count', 'decode', 'endswith', 'expandtabs', 'find', 'fromhex', 'hex', 'index', 'isalnum', 'isalpha', 'isdigit', 'islower', 'isspace', 'istitle', 'isupper', 'join', 'ljust', 'lower', 'lstrip', 'maketrans', 'partition', 'replace', 'rfind', 'rindex', 'rjust', 'rpartition', 'rsplit', 'rstrip', 'split', 'splitlines', 'startswith', 'strip', 'swapcase', 'title', 'translate', 'upper', 'zfill']\n",
      "{'Omkar': {'key': 'Omkar', 'name': 'Omkar Pathak', 'age': 21, 'pay': 40000}, 'Jagdish': {'key': 'Jagdish', 'name': 'Jagdish Pathak', 'age': 50, 'pay': 50000}}\n"
     ]
    }
   ],
   "source": [
    "# Python pickle module is used for serializing and de-serializing a Python object structure. \n",
    "# Any object in Python can be pickled so that it can be saved on disk. \n",
    "# What pickle does is that it “serializes” the object first before writing it to file. \n",
    "# Pickling is a way to convert a python object (list, dict, etc.) into a character stream\n",
    "\n",
    "import pickle\n",
    "Omkar = {'key' : 'Omkar', 'name' : 'Omkar Pathak',  \n",
    "'age' : 21, 'pay' : 40000} \n",
    "Jagdish = {'key' : 'Jagdish', 'name' : 'Jagdish Pathak', \n",
    "'age' : 50, 'pay' : 50000} \n",
    "  \n",
    "# database \n",
    "db = {} \n",
    "db['Omkar'] = Omkar \n",
    "db['Jagdish'] = Jagdish \n",
    "  \n",
    "# For storing \n",
    "b = pickle.dumps(db)       # type(b) gives <class 'bytes'> \n",
    "print(dir(b))\n",
    "# For loading \n",
    "myEntry = pickle.loads(b) \n",
    "print(myEntry) "
   ]
  },
  {
   "cell_type": "code",
   "execution_count": 25,
   "metadata": {},
   "outputs": [
    {
     "name": "stdout",
     "output_type": "stream",
     "text": [
      "<class '_io.BufferedWriter'>\n",
      "Omkar => {'key': 'Omkar', 'name': 'Omkar Pathak', 'age': 21, 'pay': 40000}\n",
      "Jagdish => {'key': 'Jagdish', 'name': 'Jagdish Pathak', 'age': 50, 'pay': 50000}\n"
     ]
    }
   ],
   "source": [
    "import pickle \n",
    "  \n",
    "def storeData(): \n",
    "    # initializing data to be stored in db \n",
    "    Omkar = {'key' : 'Omkar', 'name' : 'Omkar Pathak', \n",
    "    'age' : 21, 'pay' : 40000} \n",
    "    Jagdish = {'key' : 'Jagdish', 'name' : 'Jagdish Pathak', \n",
    "    'age' : 50, 'pay' : 50000} \n",
    "  \n",
    "    # database \n",
    "    db = {} \n",
    "    db['Omkar'] = Omkar \n",
    "    db['Jagdish'] = Jagdish \n",
    "      \n",
    "    # Its important to use binary mode \n",
    "    dbfile = open('examplePickle', 'ab')\n",
    "      \n",
    "    # source, destination \n",
    "    pickle.dump(db, dbfile)                      \n",
    "    dbfile.close() \n",
    "  \n",
    "def loadData(): \n",
    "    # for reading also binary mode is important \n",
    "    dbfile = open('examplePickle', 'rb')      \n",
    "    db = pickle.load(dbfile) \n",
    "    for keys in db: \n",
    "        print(keys, '=>', db[keys]) \n",
    "    dbfile.close() \n",
    "  \n",
    "if __name__ == '__main__': \n",
    "    storeData() \n",
    "    loadData() "
   ]
  },
  {
   "cell_type": "code",
   "execution_count": 37,
   "metadata": {},
   "outputs": [
    {
     "name": "stdout",
     "output_type": "stream",
     "text": [
      "/home/rups/workspace/interview/python/test.json\n",
      "{'key': 'sdf', 'key2': 'df'}\n"
     ]
    }
   ],
   "source": [
    "import os \n",
    "import json\n",
    "notebook_path = os.path.join(os.path.dirname(os.path.abspath(\"Pickle.ipynb\")),\"test.json\")\n",
    "print(notebook_path)\n",
    "with open(notebook_path,'r') as f:\n",
    "    data = json.load(f)\n",
    "    print(data)"
   ]
  },
  {
   "cell_type": "code",
   "execution_count": null,
   "metadata": {},
   "outputs": [],
   "source": []
  }
 ],
 "metadata": {
  "kernelspec": {
   "display_name": "Python 3",
   "language": "python",
   "name": "python3"
  },
  "language_info": {
   "codemirror_mode": {
    "name": "ipython",
    "version": 3
   },
   "file_extension": ".py",
   "mimetype": "text/x-python",
   "name": "python",
   "nbconvert_exporter": "python",
   "pygments_lexer": "ipython3",
   "version": "3.6.9"
  }
 },
 "nbformat": 4,
 "nbformat_minor": 4
}

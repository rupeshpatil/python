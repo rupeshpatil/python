{
 "cells": [
  {
   "cell_type": "markdown",
   "metadata": {},
   "source": [
    "\n",
    "#### Context Manager\n",
    "In any programming language, \n",
    "the usage of resources like file operations or database connections is very common. \n",
    "But these resources are limited in supply. Therefore, the main problem lies in making sure to release these resources after usage.\n",
    "If they are not released then it will \n",
    "lead to resource leakage and may cause the system to either slow down or crash.\n",
    "\n"
   ]
  },
  {
   "cell_type": "code",
   "execution_count": null,
   "metadata": {},
   "outputs": [],
   "source": [
    "import os \n",
    "import json\n",
    "notebook_path = os.path.join(os.path.dirname(os.path.abspath(\"Pickle.ipynb\")),\"test.json\")\n",
    "print(notebook_path)\n",
    "lst = []\n",
    "for i in range(10000):\n",
    "    # It will give error for resource are not released.\n",
    "    # lst.append(open(notebook_path,'r'))\n",
    "\n",
    "    with open(notebook_path,'r') as f:\n",
    "         data = json.load(f)\n",
    "         print(data)"
   ]
  },
  {
   "cell_type": "code",
   "execution_count": null,
   "metadata": {},
   "outputs": [],
   "source": []
  }
 ],
 "metadata": {
  "kernelspec": {
   "display_name": "Python 3",
   "language": "python",
   "name": "python3"
  },
  "language_info": {
   "codemirror_mode": {
    "name": "ipython",
    "version": 3
   },
   "file_extension": ".py",
   "mimetype": "text/x-python",
   "name": "python",
   "nbconvert_exporter": "python",
   "pygments_lexer": "ipython3",
   "version": "3.6.9"
  }
 },
 "nbformat": 4,
 "nbformat_minor": 4
}

{
 "cells": [
  {
   "cell_type": "code",
   "execution_count": 3,
   "metadata": {},
   "outputs": [
    {
     "data": {
      "text/plain": [
       "33793"
      ]
     },
     "execution_count": 3,
     "metadata": {},
     "output_type": "execute_result"
    }
   ],
   "source": [
    "lst = [13,12,12,12,3,44,3,4,4,5,4,5,234,33434,4]\n",
    "gen = (d for d in lst)\n",
    "sum(gen)"
   ]
  },
  {
   "cell_type": "markdown",
   "metadata": {},
   "source": [
    "# Clouser\n",
    "#### The criteria that must be met to create closure in Python are summarized in the following points.\n",
    "\n",
    "#### We must have a nested function (function inside a function).\n",
    "#### The nested function must refer to a value defined in the enclosing function.\n",
    "#### The enclosing function must return the nested function.\n",
    "\n"
   ]
  },
  {
   "cell_type": "code",
   "execution_count": 10,
   "metadata": {},
   "outputs": [
    {
     "name": "stdout",
     "output_type": "stream",
     "text": [
      "27\n",
      "15\n",
      "30\n"
     ]
    }
   ],
   "source": [
    "def make_multiplier_of(n):\n",
    "    def multiplier(x):\n",
    "        return x * n\n",
    "    return multiplier\n",
    "\n",
    "#### Multiplier of 3\n",
    "times3 = make_multiplier_of(3)\n",
    "\n",
    "#### Multiplier of 5\n",
    "times5 = make_multiplier_of(5)\n",
    "\n",
    "#### Output: 27\n",
    "print(times3(9))\n",
    "\n",
    "#### Output: 15\n",
    "print(times5(3))\n",
    "\n",
    "#### Output: 30\n",
    "print(times5(times3(2)))\n",
    "\n"
   ]
  },
  {
   "cell_type": "markdown",
   "metadata": {},
   "source": [
    "## When To Use\n",
    "\n",
    "#### Closures can avoid the use of global values and provides some form of data hiding. \n",
    "#### It can also provide an object oriented solution to the problem.\n",
    "\n",
    "#### When there are few methods (one method in most cases) to be implemented in a class,\n",
    "#### closures can provide an alternate and more elegant solutions.\n",
    "#### But when the number of attributes and methods get larger, better implement a class"
   ]
  },
  {
   "cell_type": "code",
   "execution_count": null,
   "metadata": {},
   "outputs": [],
   "source": []
  }
 ],
 "metadata": {
  "kernelspec": {
   "display_name": "Python 3 (ipykernel)",
   "language": "python",
   "name": "python3"
  },
  "language_info": {
   "codemirror_mode": {
    "name": "ipython",
    "version": 3
   },
   "file_extension": ".py",
   "mimetype": "text/x-python",
   "name": "python",
   "nbconvert_exporter": "python",
   "pygments_lexer": "ipython3",
   "version": "3.8.10"
  }
 },
 "nbformat": 4,
 "nbformat_minor": 4
}

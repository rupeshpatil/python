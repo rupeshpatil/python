{
 "cells": [
  {
   "cell_type": "code",
   "execution_count": 5,
   "metadata": {},
   "outputs": [
    {
     "name": "stdout",
     "output_type": "stream",
     "text": [
      "> <ipython-input-5-5a89b07204b1>(8)decorator_func()\n",
      "-> if key == 'rupesh':\n",
      "(Pdb) c\n"
     ]
    },
    {
     "data": {
      "text/plain": [
       "'Testing function in decoratorrupesh'"
      ]
     },
     "execution_count": 5,
     "metadata": {},
     "output_type": "execute_result"
    }
   ],
   "source": [
    "from functools import wraps\n",
    "\n",
    "def decorate(key):\n",
    "    def test_decorator(func):\n",
    "        @wraps(func)\n",
    "        def decorator_func(*args, **kwargs):\n",
    "            import pdb;\n",
    "            pdb.set_trace()\n",
    "            if key == 'rupesh':\n",
    "                res = func(*args, **kwargs)\n",
    "                return res + \"\" key\n",
    "            else:\n",
    "                print(\"You dont have authority\")\n",
    "        return decorator_func\n",
    "    return test_decorator\n",
    "\n",
    "\n",
    "@decorate(\"rupesh\")\n",
    "def test_funct():\n",
    "    return \"Testing function in decorator\"\n",
    "\n",
    "test_funct()\n"
   ]
  },
  {
   "cell_type": "code",
   "execution_count": 7,
   "metadata": {},
   "outputs": [
    {
     "name": "stdout",
     "output_type": "stream",
     "text": [
      "Something is happening before some_function() is called.\n",
      "Wheee! home/rupesh/\n"
     ]
    }
   ],
   "source": [
    "temp = \"home\\\\rupesh\\\\\"\n",
    "output = \"home\\\\rupesh\\\\\"\n",
    "from functools import wraps\n",
    "import os\n",
    "\n",
    "def my_decorator(some_function):\n",
    "    \n",
    "    @wraps(some_function)\n",
    "    def wrapper(temp, *args, **kwargs):\n",
    "        sep = os.sep\n",
    "        print(\"Something is happening before some_function() is called.\")\n",
    "        temp= sep.join(temp.split(\"\\\\\"))\n",
    "        return some_function(temp)\n",
    "\n",
    "        print(\"Something is happening after some_function() is called.\")\n",
    "\n",
    "    return wrapper\n",
    "\n",
    "@my_decorator\n",
    "def just_some_function(temp):\n",
    "    print(\"Wheee!\", temp)\n",
    "\n",
    "\n",
    "just_some_function(\"home/rupesh/\")\n",
    "\n"
   ]
  },
  {
   "cell_type": "code",
   "execution_count": null,
   "metadata": {
    "collapsed": true
   },
   "outputs": [],
   "source": []
  },
  {
   "cell_type": "code",
   "execution_count": 6,
   "metadata": {},
   "outputs": [
    {
     "name": "stdout",
     "output_type": "stream",
     "text": [
      "['home', 'rupesh', 'workspace']\n"
     ]
    }
   ],
   "source": [
    "import os\n",
    "temp = \"home/rupesh/workspace\"\n",
    "# sep = os.sep\n",
    "print(temp.split(\"/\"))"
   ]
  },
  {
   "cell_type": "code",
   "execution_count": null,
   "metadata": {
    "collapsed": true
   },
   "outputs": [],
   "source": []
  },
  {
   "cell_type": "code",
   "execution_count": null,
   "metadata": {
    "collapsed": true
   },
   "outputs": [],
   "source": []
  }
 ],
 "metadata": {
  "kernelspec": {
   "display_name": "Python 3",
   "language": "python",
   "name": "python3"
  },
  "language_info": {
   "codemirror_mode": {
    "name": "ipython",
    "version": 3
   },
   "file_extension": ".py",
   "mimetype": "text/x-python",
   "name": "python",
   "nbconvert_exporter": "python",
   "pygments_lexer": "ipython3",
   "version": "3.6.9"
  }
 },
 "nbformat": 4,
 "nbformat_minor": 1
}

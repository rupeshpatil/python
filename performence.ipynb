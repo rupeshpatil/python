{
 "cells": [
  {
   "cell_type": "code",
   "execution_count": 1,
   "metadata": {
    "collapsed": false
   },
   "outputs": [
    {
     "name": "stdout",
     "output_type": "stream",
     "text": [
      "python for slow\n",
      "0.0005819999999999714\n",
      "python for fast\n",
      "0.00026799999999993496\n"
     ]
    }
   ],
   "source": [
    "import time\n",
    "# slow\n",
    "start = time.clock()\n",
    "v = 'for'\n",
    "s = 'python ' + v + ' slow'\n",
    "print(s)\n",
    "end = time.clock()\n",
    "print(end - start)\n",
    "\n",
    "start = time.clock()\n",
    "# fast\n",
    "s = 'python %s fast' % v\n",
    "print(s)\n",
    "end = time.clock()\n",
    "print(end -start)"
   ]
  },
  {
   "cell_type": "code",
   "execution_count": 2,
   "metadata": {
    "collapsed": false
   },
   "outputs": [
    {
     "name": "stdout",
     "output_type": "stream",
     "text": [
      "0.022877000000000036\n",
      "0.04332199999999997\n"
     ]
    }
   ],
   "source": [
    "import time\n",
    "# Faster\n",
    "start = time.clock()\n",
    "evens = [ i for i in range(100000) if i%2 == 0]\n",
    "end = time.clock()\n",
    "print(end - start)\n",
    "\n",
    "# Less faster\n",
    "start = time.clock()\n",
    "i = 0\n",
    "even = []\n",
    "while i < 100000:\n",
    "    if i %2 == 0:\n",
    "        even.append(i)\n",
    "    i += 1\n",
    "end = time.clock()\n",
    "\n",
    "print(end-start)"
   ]
  },
  {
   "cell_type": "code",
   "execution_count": 4,
   "metadata": {
    "collapsed": false
   },
   "outputs": [
    {
     "name": "stdout",
     "output_type": "stream",
     "text": [
      "['P', 'Y', 'T', 'H', 'O', 'N']\n",
      "Time spent in function is:  0.0008930000000000327\n",
      "['__class__', '__delattr__', '__dir__', '__doc__', '__eq__', '__format__', '__ge__', '__getattribute__', '__gt__', '__hash__', '__init__', '__iter__', '__le__', '__lt__', '__ne__', '__new__', '__next__', '__reduce__', '__reduce_ex__', '__repr__', '__setattr__', '__sizeof__', '__str__', '__subclasshook__']\n",
      "['P', 'Y', 'T', 'H', 'O', 'N']\n",
      "Time spent in builtin function is:  0.00050400000000006\n"
     ]
    }
   ],
   "source": [
    "import time\n",
    " \n",
    "start = time.clock() \n",
    "s = 'python'\n",
    "uper_case = []\n",
    "for c in s:\n",
    "    uper_case.append(c.upper())\n",
    "print(uper_case)\n",
    "elapsed = time.clock()\n",
    "e1 = elapsed - start\n",
    "print(\"Time spent in function is: \", e1)\n",
    "\n",
    "# fast\n",
    "s = 'python'\n",
    "start = time.clock() \n",
    "\n",
    "uper_case = map(str.upper, s) \n",
    "print(dir(uper_case))\n",
    "print(list(uper_case))\n",
    "elapsed = time.clock()\n",
    "e2 = elapsed - start\n",
    "print(\"Time spent in builtin function is: \", e2)"
   ]
  },
  {
   "cell_type": "code",
   "execution_count": 9,
   "metadata": {
    "collapsed": false
   },
   "outputs": [
    {
     "name": "stdout",
     "output_type": "stream",
     "text": [
      "Time spent in function is:  0.0010199999999997988\n",
      "Time spent in function is:  0.005292999999999992\n"
     ]
    }
   ],
   "source": [
    "import time\n",
    "# Fast\n",
    "start = time.clock() \n",
    "uper_case = []\n",
    "for c in range(1000):\n",
    "    uper_case.append(int(c))\n",
    "elapsed = time.clock()\n",
    "e1 = elapsed - start\n",
    "print(\"Time spent in function is: \", e1)\n",
    "\n",
    "import time\n",
    "# Slow\n",
    "start = time.clock() \n",
    "uper_case = []\n",
    "for c in range(1000):\n",
    "    uper_case = uper_case + [int(c)]\n",
    "elapsed = time.clock()\n",
    "e1 = elapsed - start\n",
    "print(\"Time spent in function is: \", e1)"
   ]
  },
  {
   "cell_type": "code",
   "execution_count": 5,
   "metadata": {
    "collapsed": false
   },
   "outputs": [
    {
     "name": "stdout",
     "output_type": "stream",
     "text": [
      "slower 0.0002849999999998687\n",
      "faster 0.00016900000000008575\n"
     ]
    }
   ],
   "source": [
    "import time\n",
    "# slower\n",
    "start = time.clock()\n",
    "mydict = {'g':1,'e':1,'e':1,'k':1}\n",
    "word = 'asdasdadaegdsadkaesd'\n",
    "for w in word:\n",
    "    if w not in mydict:\n",
    "        mydict[w] = 0\n",
    "    mydict[w] += 1\n",
    "end = time.clock()\n",
    "print(\"slower\", end-start)\n",
    " \n",
    "# faster\n",
    "\n",
    "mydict = {'g':1,'e':1,'e':1,'k':1}\n",
    "word = 'asdasdadaegdsadkaesd'\n",
    "\n",
    "start = time.clock()\n",
    "for w in word:\n",
    "    try:\n",
    "        mydict[w] += 1\n",
    "    except KeyError:\n",
    "        mydict[w] = 1\n",
    "end = time.clock()\n",
    "print(\"faster\", end-start)\n",
    "\n",
    "\n"
   ]
  },
  {
   "cell_type": "code",
   "execution_count": 6,
   "metadata": {
    "collapsed": false
   },
   "outputs": [
    {
     "name": "stdout",
     "output_type": "stream",
     "text": [
      "0.00038199999999988243\n",
      "0.0003380000000001715\n"
     ]
    }
   ],
   "source": [
    "# this will be useful at the time of big data\n",
    "import time\n",
    "start = time.clock()\n",
    "# Fast\n",
    "float_fun = float\n",
    "upperlist = []\n",
    "append = upperlist.append\n",
    "for word in range(10):\n",
    "    append(float_fun(word))\n",
    "print(time.clock()-start)\n",
    "\n",
    "# slow\n",
    "start = time.clock()\n",
    "upperlist = []\n",
    "for word in range(10):\n",
    "    upperlist.append(float(word))\n",
    "print(time.clock()-start)\n"
   ]
  },
  {
   "cell_type": "code",
   "execution_count": 7,
   "metadata": {
    "collapsed": false
   },
   "outputs": [
    {
     "name": "stdout",
     "output_type": "stream",
     "text": [
      "0.0004919999999999369\n",
      "<generator object genfnc at 0x7fa0684f1d80>\n",
      "0\n",
      "2\n",
      "4\n",
      "6\n",
      "8\n",
      "10\n",
      "12\n",
      "14\n",
      "16\n",
      "18\n",
      "20\n",
      "22\n",
      "24\n",
      "26\n",
      "28\n",
      "30\n",
      "32\n",
      "34\n",
      "36\n",
      "38\n",
      "40\n",
      "42\n",
      "44\n",
      "46\n",
      "48\n",
      "50\n",
      "52\n",
      "54\n",
      "56\n",
      "58\n",
      "60\n",
      "62\n",
      "64\n",
      "66\n",
      "68\n",
      "70\n",
      "72\n",
      "74\n",
      "76\n",
      "78\n",
      "80\n",
      "82\n",
      "84\n",
      "86\n",
      "88\n",
      "90\n",
      "92\n",
      "94\n",
      "96\n",
      "98\n",
      "100\n",
      "102\n",
      "104\n",
      "106\n",
      "108\n",
      "110\n",
      "112\n",
      "114\n",
      "116\n",
      "118\n",
      "120\n",
      "122\n",
      "124\n",
      "126\n",
      "128\n",
      "130\n",
      "132\n",
      "134\n",
      "136\n",
      "138\n",
      "140\n",
      "142\n",
      "144\n",
      "146\n",
      "148\n",
      "150\n",
      "152\n",
      "154\n",
      "156\n",
      "158\n",
      "160\n",
      "162\n",
      "164\n",
      "166\n",
      "168\n",
      "170\n",
      "172\n",
      "174\n",
      "176\n",
      "178\n",
      "180\n",
      "182\n",
      "184\n",
      "186\n",
      "188\n",
      "190\n",
      "192\n",
      "194\n",
      "196\n",
      "198\n",
      "0.0011270000000001001\n"
     ]
    }
   ],
   "source": [
    "# Generator use case\n",
    "import time\n",
    "# slow\n",
    "start = time.clock()\n",
    "def iterfnc(n):\n",
    "    lst = []\n",
    "    for i in range(n):\n",
    "        lst.append(int(i) * 2)\n",
    "    return lst\n",
    "\n",
    "for item in iterfnc(100):\n",
    "    pass\n",
    "print(time.clock()- start)\n",
    "\n",
    "# Fast\n",
    "start = time.clock()\n",
    "def genfnc(n):\n",
    "    for i in range(n):\n",
    "        yield int(i) * 2\n",
    "for item in genfnc(100):\n",
    "    pass\n",
    "print(time.clock() - start)"
   ]
  },
  {
   "cell_type": "code",
   "execution_count": null,
   "metadata": {
    "collapsed": true
   },
   "outputs": [],
   "source": []
  }
 ],
 "metadata": {
  "kernelspec": {
   "display_name": "Python 3",
   "language": "python",
   "name": "python3"
  },
  "language_info": {
   "codemirror_mode": {
    "name": "ipython",
    "version": 3
   },
   "file_extension": ".py",
   "mimetype": "text/x-python",
   "name": "python",
   "nbconvert_exporter": "python",
   "pygments_lexer": "ipython3",
   "version": "3.4.3"
  }
 },
 "nbformat": 4,
 "nbformat_minor": 0
}

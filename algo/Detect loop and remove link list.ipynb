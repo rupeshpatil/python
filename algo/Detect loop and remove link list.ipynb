{
 "cells": [
  {
   "cell_type": "code",
   "execution_count": 15,
   "metadata": {},
   "outputs": [
    {
     "name": "stdout",
     "output_type": "stream",
     "text": [
      "5\n",
      "2\n",
      "There is no loop\n",
      "1\n",
      "2\n",
      "3\n",
      "4\n",
      "5\n",
      "print List \n",
      "\n"
     ]
    }
   ],
   "source": [
    "class Node:\n",
    "    def __init__(self, data):\n",
    "        self.data = data\n",
    "        self.next = None\n",
    "    \n",
    "class LoopDetectLinkList:\n",
    "    def __init__(self):\n",
    "        self.head = None\n",
    "    \n",
    "    def add_node(self, num):\n",
    "        new_node = Node(num)\n",
    "        if self.head is None:\n",
    "            new_node.next = self.head\n",
    "            self.head = new_node\n",
    "        else:\n",
    "            current = self.head\n",
    "            while(current.next):\n",
    "                current= current.next\n",
    "            \n",
    "            current.next = new_node\n",
    "    \n",
    "    def print_list(self):\n",
    "        temp = self.head\n",
    "        while(temp):\n",
    "            print(temp.data)\n",
    "            temp = temp.next\n",
    "\n",
    "    def detect_loop(self):\n",
    "        first = second = self.head\n",
    "               \n",
    "        while (first and second and second.next):\n",
    "            first = first.next\n",
    "            second = second.next.next\n",
    "          \n",
    "            if first == second:\n",
    "                 self.remove_loop(second)\n",
    "    \n",
    "    def remove_loop(self, second):\n",
    "        temp = second\n",
    "        current = self.head\n",
    "        while(current):\n",
    "            if current == temp:\n",
    "                current.next = None\n",
    "            current = current.next\n",
    "        \n",
    "        \n",
    "    \n",
    "obj = LoopDetectLinkList()\n",
    "obj.add_node(1)\n",
    "obj.add_node(2)\n",
    "obj.add_node(3)\n",
    "obj.add_node(4)\n",
    "obj.add_node(5)\n",
    "print(obj.head.next.next.next.next.data)\n",
    "print(obj.head.next.data)\n",
    "obj.head.next.next.next.next.next = obj.head.next\n",
    "res = obj.detect_loop()\n",
    "if res:\n",
    "    obj.head = res\n",
    "    obj.print_list()\n",
    "    print(\"Loop Detected\")\n",
    "else:\n",
    "    print(\"There is no loop\")\n",
    "    obj.print_list()\n",
    "print(\"print List \\n\")\n",
    "# obj.print_list()\n",
    "        "
   ]
  },
  {
   "cell_type": "code",
   "execution_count": null,
   "metadata": {
    "collapsed": true
   },
   "outputs": [],
   "source": []
  }
 ],
 "metadata": {
  "kernelspec": {
   "display_name": "Python 3 (ipykernel)",
   "language": "python",
   "name": "python3"
  },
  "language_info": {
   "codemirror_mode": {
    "name": "ipython",
    "version": 3
   },
   "file_extension": ".py",
   "mimetype": "text/x-python",
   "name": "python",
   "nbconvert_exporter": "python",
   "pygments_lexer": "ipython3",
   "version": "3.8.10"
  }
 },
 "nbformat": 4,
 "nbformat_minor": 1
}

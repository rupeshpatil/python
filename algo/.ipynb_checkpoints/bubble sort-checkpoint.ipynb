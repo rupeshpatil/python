{
 "cells": [
  {
   "cell_type": "code",
   "execution_count": null,
   "metadata": {},
   "outputs": [],
   "source": []
  },
  {
   "cell_type": "code",
   "execution_count": 23,
   "metadata": {},
   "outputs": [
    {
     "name": "stdout",
     "output_type": "stream",
     "text": [
      "swaping 5 1\n",
      "swaping 6 2\n",
      "swaping 6 4\n",
      "swaping 6 3\n",
      "swaping 6 4\n",
      "swaping 5 2\n",
      "swaping 5 4\n",
      "swaping 5 3\n",
      "swaping 5 4\n",
      "swaping 4 3\n",
      "[1, 2, 3, 4, 4, 5, 6, 7]\n"
     ]
    }
   ],
   "source": [
    "# Bubble Sort using straight forward way\n",
    "# complexity of below code will n2 \n",
    "a = [5, 1, 6, 2, 4, 3,4,7]\n",
    "for i in range(len(a)):\n",
    "    for j in range(len(a)-1):\n",
    "        if a[j] > a[j+1]:\n",
    "            print(\"swaping\", a[j], a[j+1])\n",
    "            a[j+1],a[j]=a[j],a[j+1]\n",
    "print(a)"
   ]
  },
  {
   "cell_type": "code",
   "execution_count": null,
   "metadata": {
    "collapsed": true
   },
   "outputs": [],
   "source": [
    "# this is another optimise way to bubble sort\n",
    "a = [5, 1, 6, 2, 4, 3, 7]\n",
    "temp = 0\n",
    "for i in range(len(a)):\n",
    "    print(\"list\", a)\n",
    "    # Taking flag to reduce extra for loop if all swapping is done.\n",
    "    flag = 0\n",
    "    # len(a)-i-1 reducing iteration by i in second loop because we already swap last element in previous iteration. \n",
    "    for j in range(len(a)-i-1):\n",
    "        print(\"j\",j)\n",
    "        if a[j] > a[j+1]:\n",
    "            print(\"swaping\", a[j], a[j+1])\n",
    "            a[j+1],a[j]=a[j],a[j+1]\n",
    "            flag = 1\n",
    "    if not flag:\n",
    "        break\n",
    "print(a)"
   ]
  }
 ],
 "metadata": {
  "kernelspec": {
   "display_name": "Python 3 (ipykernel)",
   "language": "python",
   "name": "python3"
  },
  "language_info": {
   "codemirror_mode": {
    "name": "ipython",
    "version": 3
   },
   "file_extension": ".py",
   "mimetype": "text/x-python",
   "name": "python",
   "nbconvert_exporter": "python",
   "pygments_lexer": "ipython3",
   "version": "3.8.10"
  }
 },
 "nbformat": 4,
 "nbformat_minor": 1
}

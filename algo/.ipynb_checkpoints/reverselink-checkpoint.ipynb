{
 "cells": [
  {
   "cell_type": "code",
   "execution_count": 7,
   "metadata": {
    "collapsed": false
   },
   "outputs": [
    {
     "name": "stdout",
     "output_type": "stream",
     "text": [
      "Given linked list\n",
      "1\n",
      "2\n",
      "3\n",
      "4\n",
      "5\n",
      "6\n",
      "7\n",
      "8\n",
      "9\n",
      "2\n",
      "3\n",
      "4\n",
      "5\n",
      "6\n",
      "7\n",
      "8\n",
      "9\n",
      "\n",
      "Reversed Linked list\n",
      "3\n",
      "9\n",
      "8\n",
      "7\n"
     ]
    }
   ],
   "source": [
    "# Python program to reverse a linked list in group of given size\n",
    " \n",
    "# Node class \n",
    "class Node:\n",
    " \n",
    "    # Constructor to initialize the node object\n",
    "    def __init__(self, data):\n",
    "        self.data = data\n",
    "        self.next = None\n",
    " \n",
    "class LinkedList:\n",
    " \n",
    "    # Function to initialize head\n",
    "    def __init__(self):\n",
    "        self.head = None\n",
    " \n",
    "    def reverse(self, head, k):\n",
    "        current = head \n",
    "        next  = None\n",
    "        prev = None\n",
    "        count = 0\n",
    "        out = None\n",
    "        # Reverse first k nodes of the linked list\n",
    "        while(current is not None):\n",
    "            next = current.next\n",
    "            current.next = prev\n",
    "            prev = current\n",
    "            current = next\n",
    "            count += 1\n",
    "            print(count)\n",
    "            if count == k:\n",
    "                count = 0\n",
    "                if out is None:\n",
    "                    out = prev\n",
    "                else:\n",
    "                    out.next = prev\n",
    "                prev = None\n",
    "            \n",
    "        \n",
    "        \n",
    "        # next is now a pointer to (k+1)th node\n",
    "        # recursively call for the list starting\n",
    "        # from current . And make rest of the list as\n",
    "        # next of first node\n",
    "#         if next is not None:\n",
    "#             head.next = self.reverse(next, k)\n",
    " \n",
    "        # prev is new head of the input list\n",
    "        return out\n",
    " \n",
    "    # Function to insert a new node at the beginning\n",
    "    def push(self, new_data):\n",
    "        new_node = Node(new_data)\n",
    "        new_node.next = self.head\n",
    "        self.head = new_node\n",
    " \n",
    "    # Utility function to print the linked LinkedList\n",
    "    def printList(self):\n",
    "        temp = self.head\n",
    "        while(temp):\n",
    "            print(temp.data),\n",
    "            temp = temp.next\n",
    " \n",
    " \n",
    "# Driver program\n",
    "llist = LinkedList()\n",
    "llist.push(9)\n",
    "llist.push(8)\n",
    "llist.push(7)\n",
    "llist.push(6)\n",
    "llist.push(5)\n",
    "llist.push(4)\n",
    "llist.push(3)\n",
    "llist.push(2)\n",
    "llist.push(1)\n",
    " \n",
    "print( \"Given linked list\")\n",
    "llist.printList()\n",
    "llist.head = llist.reverse(llist.head, 3)\n",
    " \n",
    "print (\"\\nReversed Linked list\")\n",
    "llist.printList()"
   ]
  },
  {
   "cell_type": "code",
   "execution_count": null,
   "metadata": {
    "collapsed": true
   },
   "outputs": [],
   "source": [
    "\n"
   ]
  }
 ],
 "metadata": {
  "kernelspec": {
   "display_name": "Python 3",
   "language": "python",
   "name": "python3"
  },
  "language_info": {
   "codemirror_mode": {
    "name": "ipython",
    "version": 3
   },
   "file_extension": ".py",
   "mimetype": "text/x-python",
   "name": "python",
   "nbconvert_exporter": "python",
   "pygments_lexer": "ipython3",
   "version": "3.4.3"
  }
 },
 "nbformat": 4,
 "nbformat_minor": 0
}

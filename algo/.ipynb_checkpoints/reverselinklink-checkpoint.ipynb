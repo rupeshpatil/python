{
 "cells": [
  {
   "cell_type": "code",
   "execution_count": 16,
   "metadata": {},
   "outputs": [
    {
     "name": "stdout",
     "output_type": "stream",
     "text": [
      "1\n",
      "2\n",
      "3\n",
      "Reverlink List \n",
      "\n",
      "1\n"
     ]
    }
   ],
   "source": [
    "class Node:\n",
    "    def __init__(self, data):\n",
    "        self.data = data\n",
    "        self.next = None\n",
    "\n",
    "class ReverseLinkList:\n",
    "    def __init__(self):\n",
    "        self.current = None\n",
    "    \n",
    "    def add_node(self, num):\n",
    "        new_node = Node(num)\n",
    "        if self.current is None:\n",
    "            new_node.next = self.current\n",
    "            self.current = new_node\n",
    "        else:\n",
    "            temp = self.current\n",
    "            while(temp.next):\n",
    "                temp = temp.next\n",
    "            temp.next = new_node\n",
    "    \n",
    "    def reverlinklist(self, head):\n",
    "        present = head\n",
    "        prev = None\n",
    "        next = None\n",
    "        while(present is not None):\n",
    "            next = present.next\n",
    "            present.next = prev\n",
    "            prev = present\n",
    "            present = next\n",
    "        \n",
    "        return prev\n",
    "        \n",
    "    def print_list(self):\n",
    "        temp = self.current\n",
    "        while(temp):\n",
    "            print(temp.data)\n",
    "            temp = temp.next\n",
    "            \n",
    "            \n",
    "obj = ReverseLinkList()\n",
    "obj.add_node(1)\n",
    "obj.add_node(2)\n",
    "obj.add_node(3)\n",
    "\n",
    "obj.print_list()\n",
    "print(\"Reverlink List \\n\")\n",
    "obj.current = obj.reverlinklist(obj.current)\n",
    "obj.print_list()\n",
    "            "
   ]
  },
  {
   "cell_type": "code",
   "execution_count": null,
   "metadata": {},
   "outputs": [],
   "source": []
  }
 ],
 "metadata": {
  "kernelspec": {
   "display_name": "Python 3 (ipykernel)",
   "language": "python",
   "name": "python3"
  },
  "language_info": {
   "codemirror_mode": {
    "name": "ipython",
    "version": 3
   },
   "file_extension": ".py",
   "mimetype": "text/x-python",
   "name": "python",
   "nbconvert_exporter": "python",
   "pygments_lexer": "ipython3",
   "version": "3.8.10"
  }
 },
 "nbformat": 4,
 "nbformat_minor": 1
}

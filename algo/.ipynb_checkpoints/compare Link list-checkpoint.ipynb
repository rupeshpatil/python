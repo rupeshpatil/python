{
 "cells": [
  {
   "cell_type": "code",
   "execution_count": null,
   "metadata": {
    "collapsed": true
   },
   "outputs": [],
   "source": []
  },
  {
   "cell_type": "code",
   "execution_count": 8,
   "metadata": {
    "collapsed": false
   },
   "outputs": [
    {
     "name": "stdout",
     "output_type": "stream",
     "text": [
      "1\n"
     ]
    }
   ],
   "source": [
    "class Node:\n",
    "    def __init__(self, data):\n",
    "        self.data = data\n",
    "        self.next = None\n",
    "\n",
    "class CompareLinkList:\n",
    "    \n",
    "    def compare(list1, list2):\n",
    "        while(list1 and list2 and list1.data == list2.data):\n",
    "            list1 = list1.next\n",
    "            list2 = list2.next\n",
    "        if list1 and list2:\n",
    "            return 1 if list1.data > list2.data else return -1\n",
    "        if list1 and not list2:\n",
    "            return 1\n",
    "        if not list2 and list1:\n",
    "            return -1\n",
    "        return 0\n",
    "    \n",
    "list1_obj = ComapareLinkList()\n",
    "list1_obj = Node('g')\n",
    "list1_obj.next = Node('e')\n",
    "list1_obj.next.next = Node('e')\n",
    "list1_obj.next.next.next = Node('k')\n",
    "list1_obj.next.next.next.next = Node('s')\n",
    "list1_obj.next.next.next.next.next = Node('b')\n",
    "\n",
    "list2_obj = ComapareLinkList()\n",
    "list2_obj = Node('g')\n",
    "list2_obj.next = Node('e')\n",
    "list2_obj.next.next = Node('e')\n",
    "list2_obj.next.next.next = Node('k')\n",
    "list2_obj.next.next.next.next = Node('s')\n",
    "list2_obj.next.next.next.next.next = Node('a')\n",
    " \n",
    "print compare(list1, list2)        \n",
    "\n",
    "        \n",
    "    "
   ]
  },
  {
   "cell_type": "code",
   "execution_count": null,
   "metadata": {
    "collapsed": true
   },
   "outputs": [],
   "source": []
  }
 ],
 "metadata": {
  "kernelspec": {
   "display_name": "Python 3",
   "language": "python",
   "name": "python3"
  },
  "language_info": {
   "codemirror_mode": {
    "name": "ipython",
    "version": 3
   },
   "file_extension": ".py",
   "mimetype": "text/x-python",
   "name": "python",
   "nbconvert_exporter": "python",
   "pygments_lexer": "ipython3",
   "version": "3.4.3"
  }
 },
 "nbformat": 4,
 "nbformat_minor": 0
}

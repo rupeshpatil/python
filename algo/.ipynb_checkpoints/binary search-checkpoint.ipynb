{
 "cells": [
  {
   "cell_type": "code",
   "execution_count": 9,
   "metadata": {},
   "outputs": [],
   "source": [
    "# search item using binary search algorithm\n",
    "def binarySearch(item, itemlist):\n",
    "    first = 0\n",
    "    last = len(itemlist) -1\n",
    "    while first <= last:\n",
    "        # Take the middle index of array\n",
    "        middle = (first + last) // 2\n",
    "        if itemlist[middle] == item:\n",
    "            return itemlist[middle], middle\n",
    "        elif itemlist[middle] < item:\n",
    "            first = middle + 1\n",
    "        else:\n",
    "            last = middle - 1\n",
    "            "
   ]
  },
  {
   "cell_type": "code",
   "execution_count": 10,
   "metadata": {},
   "outputs": [
    {
     "name": "stdout",
     "output_type": "stream",
     "text": [
      "[1, 3, 3, 5, 6, 8, 12]\n"
     ]
    },
    {
     "data": {
      "text/plain": [
       "(3, 1)"
      ]
     },
     "execution_count": 10,
     "metadata": {},
     "output_type": "execute_result"
    }
   ],
   "source": [
    "lst =[1,6,12,3,5,8,3]\n",
    "print(sorted(lst))\n",
    "binarySearch(3, sorted(lst))"
   ]
  },
  {
   "cell_type": "code",
   "execution_count": null,
   "metadata": {},
   "outputs": [],
   "source": [
    "\n",
    "def bianry_search(item, itemlist):\n",
    "    first = 0\n",
    "    last = len(itemlist)-1\n",
    "    while first < last:\n",
    "        middle = (first + last) // 2\n",
    "        if item == itemlist[middle]:\n",
    "            return item, middle\n",
    "        elif item < itemlist[middle]:\n",
    "            last = middle -1\n",
    "        else:\n",
    "            first = middle+1\n",
    "            \n",
    "        \n",
    "        "
   ]
  },
  {
   "cell_type": "code",
   "execution_count": null,
   "metadata": {},
   "outputs": [],
   "source": []
  }
 ],
 "metadata": {
  "kernelspec": {
   "display_name": "Python 3 (ipykernel)",
   "language": "python",
   "name": "python3"
  },
  "language_info": {
   "codemirror_mode": {
    "name": "ipython",
    "version": 3
   },
   "file_extension": ".py",
   "mimetype": "text/x-python",
   "name": "python",
   "nbconvert_exporter": "python",
   "pygments_lexer": "ipython3",
   "version": "3.8.10"
  }
 },
 "nbformat": 4,
 "nbformat_minor": 1
}

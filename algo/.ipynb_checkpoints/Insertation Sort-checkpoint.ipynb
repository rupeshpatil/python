{
 "cells": [
  {
   "cell_type": "code",
   "execution_count": 2,
   "id": "816065dd",
   "metadata": {},
   "outputs": [
    {
     "data": {
      "text/plain": [
       "[1, 2, 3, 4, 4, 5, 6, 7]"
      ]
     },
     "execution_count": 2,
     "metadata": {},
     "output_type": "execute_result"
    }
   ],
   "source": [
    "# Insersation Sort \n",
    "\n",
    "# complexity of below code will n2 \n",
    "nums = [5, 1, 6, 2, 4, 3,4,7]\n",
    "def insertion_sort(nums):\n",
    "    nums = list(nums)\n",
    "    for i in range(len(nums)):\n",
    "        cur = nums.pop(i)\n",
    "        j = i-1\n",
    "        while j >=0 and nums[j] > cur:\n",
    "            print(\"cur\")\n",
    "            j -= 1\n",
    "        nums.insert(j+1, cur)\n",
    "    return nums \n",
    "insertion_sort(nums)"
   ]
  },
  {
   "cell_type": "code",
   "execution_count": null,
   "id": "07cae85d",
   "metadata": {},
   "outputs": [],
   "source": []
  }
 ],
 "metadata": {
  "kernelspec": {
   "display_name": "Python 3 (ipykernel)",
   "language": "python",
   "name": "python3"
  },
  "language_info": {
   "codemirror_mode": {
    "name": "ipython",
    "version": 3
   },
   "file_extension": ".py",
   "mimetype": "text/x-python",
   "name": "python",
   "nbconvert_exporter": "python",
   "pygments_lexer": "ipython3",
   "version": "3.8.10"
  }
 },
 "nbformat": 4,
 "nbformat_minor": 5
}

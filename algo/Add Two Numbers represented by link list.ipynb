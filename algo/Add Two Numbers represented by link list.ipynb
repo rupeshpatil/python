{
 "cells": [
  {
   "cell_type": "code",
   "execution_count": null,
   "metadata": {
    "collapsed": true
   },
   "outputs": [],
   "source": [
    "# Given two numbers represented by two lists, write a function that returns sum list.\n",
    "# The sum list is list representation of addition of two input numbers"
   ]
  },
  {
   "cell_type": "code",
   "execution_count": 24,
   "metadata": {
    "collapsed": false
   },
   "outputs": [
    {
     "name": "stdout",
     "output_type": "stream",
     "text": [
      "6\n",
      "1\n",
      "3\n"
     ]
    }
   ],
   "source": [
    "class Node:\n",
    "    # Declare data and next at the time of node initiaization\n",
    "    def __init__(self, data):\n",
    "        self.data = data\n",
    "        self.next = None\n",
    "\n",
    "class SumNumberLinkList:\n",
    "    \n",
    "    # Initialize head\n",
    "    def __init__(self):\n",
    "        self.head = None\n",
    " \n",
    "    # Function to insert a new node at the beginning\n",
    "    def add_node(self, new_data):\n",
    "        new_node = Node(new_data)\n",
    "        new_node.next = self.head\n",
    "        self.head = new_node\n",
    "    \n",
    "    # Alternative insertion\n",
    "    def push_node(self, new_data):\n",
    "        new_node = Node(new_data)\n",
    "        if self.head is None:\n",
    "            new_node.next = self.head\n",
    "            self.head = new_node\n",
    "        else:\n",
    "            new_node.next = self.head.next\n",
    "            self.head.next = new_node\n",
    "    \n",
    "    # Sum of two list numbers and create link list\n",
    "    def sum_numbers(self, list1, list2):\n",
    "        first_number = int(''.join(map(str, self.get_numbers(list1)[::-1])))\n",
    "        second_number = int(''.join(map(str, self.get_numbers(list2)[::-1])))\n",
    "        out = first_number + second_number\n",
    "        for num in str(out)[::-1]:\n",
    "            self.add_node(num)\n",
    "\n",
    "    # Get the numbers from list list\n",
    "    def get_numbers(self, new_node):\n",
    "        number = []\n",
    "        while new_node:\n",
    "            number.append(new_node.data)\n",
    "            new_node = new_node.next\n",
    "        return number\n",
    "    \n",
    "    # print the link list \n",
    "    def print_list(self):\n",
    "        temp = self.head\n",
    "        while temp:\n",
    "            print(temp.data)\n",
    "            temp= temp.next\n",
    "                \n",
    "            \n",
    "    \n",
    "list1 = Node(5)\n",
    "list1.next = Node(6)\n",
    "list1.next.next = Node(3)\n",
    "\n",
    "list2 = Node(8)\n",
    "list2.next = Node(4)\n",
    "list2.next.next = Node(2)\n",
    "\n",
    "obj = SumNumberLinkList()\n",
    "obj.sum_numbers(list1, list2)\n",
    "obj.print_list()"
   ]
  },
  {
   "cell_type": "code",
   "execution_count": null,
   "metadata": {
    "collapsed": true
   },
   "outputs": [],
   "source": []
  },
  {
   "cell_type": "code",
   "execution_count": null,
   "metadata": {
    "collapsed": true
   },
   "outputs": [],
   "source": []
  }
 ],
 "metadata": {
  "kernelspec": {
   "display_name": "Python 3",
   "language": "python",
   "name": "python3"
  },
  "language_info": {
   "codemirror_mode": {
    "name": "ipython",
    "version": 3
   },
   "file_extension": ".py",
   "mimetype": "text/x-python",
   "name": "python",
   "nbconvert_exporter": "python",
   "pygments_lexer": "ipython3",
   "version": "3.4.3"
  }
 },
 "nbformat": 4,
 "nbformat_minor": 0
}

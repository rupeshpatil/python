{
 "cells": [
  {
   "cell_type": "code",
   "execution_count": 26,
   "metadata": {},
   "outputs": [
    {
     "name": "stdout",
     "output_type": "stream",
     "text": [
      "Level order traversal of binary tree is -\n",
      "1\n",
      "2\n",
      "4\n",
      "lHeight=0\n",
      "rheight=0\n",
      "lHeight=1\n",
      "5\n",
      "lHeight=0\n",
      "rheight=0\n",
      "rheight=1\n",
      "lHeight=2\n",
      "3\n",
      "lHeight=0\n",
      "rheight=0\n",
      "rheight=1\n",
      "final height 3\n",
      "range(1, 4)\n",
      "i 1\n",
      "1\n",
      "i 2\n",
      "2\n",
      "3\n",
      "i 3\n",
      "4\n",
      "5\n"
     ]
    }
   ],
   "source": [
    "class Node:\n",
    " \n",
    "     def __init__(self, key):\n",
    "        self.data = key \n",
    "        self.left = None\n",
    "        self.right = None\n",
    " \n",
    " \n",
    "# Function to  print level order traversal of tree\n",
    "def printLevelOrder(root):\n",
    "    h = height(root)\n",
    "    print(\"final height {}\".format(h))\n",
    "    print(range(1, h+1))\n",
    "    for i in range(1, h+1):\n",
    "        print(\"i {}\".format(i))\n",
    "        printGivenLevel(root, i)\n",
    " \n",
    " \n",
    "# Print nodes at a given level\n",
    "def printGivenLevel(root , level):\n",
    "    if root is None:\n",
    "        return\n",
    "    if level == 1:\n",
    "        print (root.data)\n",
    "    elif level > 1 :\n",
    "        printGivenLevel(root.left , level-1)\n",
    "        printGivenLevel(root.right , level-1)\n",
    " \n",
    " \n",
    "\"\"\" Compute the height of a tree--the number of nodes\n",
    "    along the longest path from the root node down to\n",
    "    the farthest leaf node\n",
    "\"\"\"\n",
    "def height(node):\n",
    "    if node is None:\n",
    "        return 0\n",
    "    else :\n",
    "        # Compute the height of each subtree \n",
    "        print(node.data)\n",
    "        lheight = height(node.left)\n",
    "        print(\"lHeight=%d\"%(lheight))\n",
    "        rheight = height(node.right)\n",
    "        print(\"rheight=%d\"%(rheight))\n",
    " \n",
    "        #Use the larger one\n",
    "        if lheight > rheight :\n",
    "            return lheight+1\n",
    "        else:\n",
    "            return rheight+1\n",
    " \n",
    "# Driver program to test above function\n",
    "root = Node(1)\n",
    "root.left = Node(2)\n",
    "root.right = Node(3)\n",
    "root.left.left = Node(4)\n",
    "root.left.right = Node(5)\n",
    " \n",
    "print (\"Level order traversal of binary tree is -\")\n",
    "printLevelOrder(root)"
   ]
  },
  {
   "cell_type": "code",
   "execution_count": null,
   "metadata": {
    "collapsed": true
   },
   "outputs": [],
   "source": []
  }
 ],
 "metadata": {
  "kernelspec": {
   "display_name": "Python 3",
   "language": "python",
   "name": "python3"
  },
  "language_info": {
   "codemirror_mode": {
    "name": "ipython",
    "version": 3
   },
   "file_extension": ".py",
   "mimetype": "text/x-python",
   "name": "python",
   "nbconvert_exporter": "python",
   "pygments_lexer": "ipython3",
   "version": "3.6.9"
  }
 },
 "nbformat": 4,
 "nbformat_minor": 1
}

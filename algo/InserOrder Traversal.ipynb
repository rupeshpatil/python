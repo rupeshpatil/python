{
 "cells": [
  {
   "cell_type": "code",
   "execution_count": 1,
   "metadata": {
    "collapsed": false
   },
   "outputs": [
    {
     "name": "stdout",
     "output_type": "stream",
     "text": [
      "3\n",
      "5\n"
     ]
    }
   ],
   "source": [
    "class Node:\n",
    "    # Initialize the node\n",
    "    def __init__(self, data):\n",
    "        self.data = data\n",
    "        self.next = None\n",
    "\n",
    "class LinkList:\n",
    "    # Initialize current head node None\n",
    "    def __init__(self):\n",
    "        self.head= None\n",
    "    \n",
    "    def sortInsert(self, new_node):\n",
    "        if self.head is None:\n",
    "            new_node.next = self.head\n",
    "            self.head = new_node\n",
    "            \n",
    "            \n",
    "        elif self.head.data >= new_node.data:\n",
    "            new_node.next = self.head\n",
    "            self.head = new_node\n",
    "        else:\n",
    "            current = self.head\n",
    "            while(current.next is not None and current.next.data < new_node.data):\n",
    "                current = current.next\n",
    "                \n",
    "            new_node.next = curent.next\n",
    "            current.next = new_node\n",
    "\n",
    "    \n",
    "    def print_nodes(self):\n",
    "        temp = self.head\n",
    "        while(temp):\n",
    "            print(temp.data)\n",
    "            temp = temp.next\n",
    "obj = LinkList()\n",
    "new_node = Node(5)\n",
    "obj.sortInsert(new_node)\n",
    "new_node = Node(3)\n",
    "obj.sortInsert(new_node)\n",
    "new_node = Node(3)\n",
    "obj.sortInsert(new_node)\n",
    "new_node = Node(3)\n",
    "obj.sortInsert(new_node)\n",
    "new_node = Node(3)\n",
    "obj.sortInsert(new_node)\n",
    "new_node = Node(3)\n",
    "obj.sortInsert(new_node)\n",
    "\n",
    "obj.print_nodes()\n",
    "        \n",
    "    "
   ]
  },
  {
   "cell_type": "code",
   "execution_count": null,
   "metadata": {
    "collapsed": true
   },
   "outputs": [],
   "source": []
  }
 ],
 "metadata": {
  "kernelspec": {
   "display_name": "Python 3",
   "language": "python",
   "name": "python3"
  },
  "language_info": {
   "codemirror_mode": {
    "name": "ipython",
    "version": 3
   },
   "file_extension": ".py",
   "mimetype": "text/x-python",
   "name": "python",
   "nbconvert_exporter": "python",
   "pygments_lexer": "ipython3",
   "version": "3.4.3"
  }
 },
 "nbformat": 4,
 "nbformat_minor": 0
}

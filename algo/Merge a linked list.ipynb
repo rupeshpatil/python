{
 "cells": [
  {
   "cell_type": "code",
   "execution_count": null,
   "metadata": {
    "collapsed": true
   },
   "outputs": [],
   "source": [
    "# Given two linked lists, insert nodes of second list into first list at alternate positions of first list.\n",
    "# For example, if first list is 5->7->17->13->11 and second is 12->10->2->4->6, the first list should become \n",
    "# 5->12->7->10->17->2->13->4->11->6 and second list should become empty. The nodes of second list should only\n",
    "# be inserted when there are positions available. For example, if the first list is 1->2->3 and \n",
    "# second list is 4->5->6->7->8, then first list should become 1->4->2->5->3->6 and second list to 7->8.\n",
    "\n",
    "# Use of extra space is not allowed (Not allowed to create additional nodes), i.e.,\n",
    "# insertion must be done in-place. Expected time complexity is O(n) where n is number of nodes in first list.\n",
    "\n",
    "# The idea is to run a loop while there are available positions in first loop and \n",
    "# insert nodes of second list by changing pointers. Following are C and Java implementations of this approach."
   ]
  },
  {
   "cell_type": "code",
   "execution_count": 20,
   "metadata": {
    "collapsed": false
   },
   "outputs": [
    {
     "name": "stdout",
     "output_type": "stream",
     "text": [
      "First Linked List:\n",
      "3\n",
      "2\n",
      "1\n",
      "Second Linked List:\n",
      "8\n",
      "7\n",
      "6\n",
      "5\n",
      "4\n",
      "Modified first linked list:\n",
      "3\n",
      "8\n",
      "2\n",
      "7\n",
      "1\n",
      "6\n",
      "Modified second linked list:\n",
      "5\n",
      "4\n"
     ]
    }
   ],
   "source": [
    "class Node:\n",
    "    # Declare data and next at the time of node initiaization\n",
    "    def __init__(self, data):\n",
    "        self.data = data\n",
    "        self.next = None\n",
    "\n",
    "class LinkList:\n",
    "    def __init__(self):\n",
    "        self.head = None\n",
    "    \n",
    "        # Function to insert a new node at the beginning\n",
    "#     def add_node(self, new_data):\n",
    "#         new_node = Node(new_data)\n",
    "#         new_node.next = self.head\n",
    "#         self.head = new_node\n",
    "    \n",
    "    # Alternative insertion\n",
    "    def add_node(self, new_data):\n",
    "        new_node = Node(new_data)\n",
    "        if self.head is None:\n",
    "            new_node.next = self.head\n",
    "            self.head = new_node\n",
    "        else:\n",
    "            current = self.head\n",
    "            while(current.next):\n",
    "                current = current.next\n",
    "                    \n",
    "            new_node.next = current.next\n",
    "            current.next = new_node\n",
    "            \n",
    "    def merge_list(self, second_list):\n",
    "        p = self.head\n",
    "        q = second_list.head\n",
    "        while (p and q):\n",
    "            p_next = p.next\n",
    "            q_next = q.next\n",
    "            \n",
    "            # Link second list node to first list link\n",
    "            q.next = p_next\n",
    "            p.next = q\n",
    "            \n",
    "            # It will leads to next step of list\n",
    "            p = p_next \n",
    "            q = q_next\n",
    "        second_list.head = q\n",
    "        \n",
    "    # print the link list \n",
    "    def print_list(self):\n",
    "        temp = self.head\n",
    "        while temp:\n",
    "            print(temp.data)\n",
    "            temp= temp.next\n",
    "        \n",
    "llist1 = LinkList()\n",
    "llist2 = LinkList()\n",
    "llist1.add_node(3)\n",
    "llist1.add_node(2)\n",
    "llist1.add_node(1)\n",
    " \n",
    "print (\"First Linked List:\")\n",
    "llist1.print_list()\n",
    " \n",
    "llist2.add_node(8)\n",
    "llist2.add_node(7)\n",
    "llist2.add_node(6)\n",
    "llist2.add_node(5)\n",
    "llist2.add_node(4)\n",
    " \n",
    "print(\"Second Linked List:\")\n",
    " \n",
    "llist2.print_list()\n",
    "llist1.merge_list(llist2)\n",
    " \n",
    "print(\"Modified first linked list:\")\n",
    "llist1.print_list()\n",
    " \n",
    "print(\"Modified second linked list:\")\n",
    "llist2.print_list()"
   ]
  },
  {
   "cell_type": "code",
   "execution_count": null,
   "metadata": {
    "collapsed": true
   },
   "outputs": [],
   "source": []
  }
 ],
 "metadata": {
  "kernelspec": {
   "display_name": "Python 3",
   "language": "python",
   "name": "python3"
  },
  "language_info": {
   "codemirror_mode": {
    "name": "ipython",
    "version": 3
   },
   "file_extension": ".py",
   "mimetype": "text/x-python",
   "name": "python",
   "nbconvert_exporter": "python",
   "pygments_lexer": "ipython3",
   "version": "3.4.3"
  }
 },
 "nbformat": 4,
 "nbformat_minor": 0
}

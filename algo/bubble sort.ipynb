{
 "cells": [
  {
   "cell_type": "code",
   "execution_count": 5,
   "metadata": {},
   "outputs": [
    {
     "name": "stdout",
     "output_type": "stream",
     "text": [
      "list [5, 1, 6, 2, 4, 3]\n",
      "swaping 5 1\n",
      "swaping 6 2\n",
      "swaping 6 4\n",
      "swaping 6 3\n",
      "list [1, 5, 2, 4, 3, 6]\n",
      "swaping 5 2\n",
      "swaping 5 4\n",
      "swaping 5 3\n",
      "list [1, 2, 4, 3, 5, 6]\n",
      "swaping 4 3\n",
      "list [1, 2, 3, 4, 5, 6]\n",
      "[1, 2, 3, 4, 5, 6]\n"
     ]
    }
   ],
   "source": [
    "a = [5, 1, 6, 2, 4 ,3]\n",
    "temp = 0\n",
    "for i in range(len(a)):\n",
    "    print(\"list\", a)\n",
    "    flag = 0\n",
    "    for j in range(len(a)-i-1):\n",
    "        if a[j] > a[j+1]:\n",
    "            print(\"swaping\", a[j], a[j+1])\n",
    "            temp = a[j]\n",
    "            a[j] = a[j+1]\n",
    "            a[j+1] = temp\n",
    "            flag = 1\n",
    "    if not flag:\n",
    "        break\n",
    "print(a)"
   ]
  },
  {
   "cell_type": "code",
   "execution_count": null,
   "metadata": {
    "collapsed": true
   },
   "outputs": [],
   "source": []
  },
  {
   "cell_type": "code",
   "execution_count": null,
   "metadata": {
    "collapsed": true
   },
   "outputs": [],
   "source": []
  },
  {
   "cell_type": "code",
   "execution_count": null,
   "metadata": {
    "collapsed": true
   },
   "outputs": [],
   "source": []
  }
 ],
 "metadata": {
  "kernelspec": {
   "display_name": "Python 3",
   "language": "python",
   "name": "python3"
  },
  "language_info": {
   "codemirror_mode": {
    "name": "ipython",
    "version": 3
   },
   "file_extension": ".py",
   "mimetype": "text/x-python",
   "name": "python",
   "nbconvert_exporter": "python",
   "pygments_lexer": "ipython3",
   "version": "3.6.9"
  }
 },
 "nbformat": 4,
 "nbformat_minor": 1
}

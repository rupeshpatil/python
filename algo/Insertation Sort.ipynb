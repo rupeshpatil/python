{
 "cells": [
  {
   "cell_type": "code",
   "execution_count": 10,
   "id": "f023b9d2",
   "metadata": {},
   "outputs": [
    {
     "name": "stdout",
     "output_type": "stream",
     "text": [
      "J -1\n",
      "number[j] 7 current 5 - i 0 \n",
      "end J -1\n",
      "J 0\n",
      "number[j] 5 current 1 - i 1 \n",
      "while loop 1\n",
      "end J -1\n",
      "J 1\n",
      "number[j] 5 current 6 - i 2 \n",
      "end J 1\n",
      "J 2\n",
      "number[j] 6 current 2 - i 3 \n",
      "while loop 2\n",
      "while loop 2\n",
      "end J 0\n",
      "J 3\n",
      "number[j] 6 current 4 - i 4 \n",
      "while loop 4\n",
      "while loop 4\n",
      "end J 1\n",
      "J 4\n",
      "number[j] 6 current 3 - i 5 \n",
      "while loop 3\n",
      "while loop 3\n",
      "while loop 3\n",
      "end J 1\n",
      "J 5\n",
      "number[j] 6 current 4 - i 6 \n",
      "while loop 4\n",
      "while loop 4\n",
      "end J 3\n",
      "J 6\n",
      "number[j] 6 current 7 - i 7 \n",
      "end J 6\n"
     ]
    },
    {
     "data": {
      "text/plain": [
       "[1, 2, 3, 4, 4, 5, 6, 7]"
      ]
     },
     "execution_count": 10,
     "metadata": {},
     "output_type": "execute_result"
    }
   ],
   "source": [
    "# Insersation Sort \n",
    "\n",
    "# complexity of below code will n2 \n",
    "nums = [5, 1, 6, 2, 4, 3, 4, 7]\n",
    "def insertion_sort(nums):\n",
    "    nums = list(nums)\n",
    "    for i in range(len(nums)):\n",
    "        cur = nums.pop(i)\n",
    "        j = i-1\n",
    "        print(\"J\",j)\n",
    "        print(\"number[j] {} current {} - i {} \".format(nums[j],cur,i))\n",
    "        while j >=0 and nums[j] > cur:\n",
    "            print(\"while loop\",cur)\n",
    "            j -= 1\n",
    "        print(\"end J\", j)\n",
    "        nums.insert(j+1, cur)\n",
    "    return nums\n",
    "insertion_sort(nums)"
   ]
  },
  {
   "cell_type": "code",
   "execution_count": null,
   "id": "0bc1536f",
   "metadata": {},
   "outputs": [],
   "source": []
  }
 ],
 "metadata": {
  "kernelspec": {
   "display_name": "Python 3 (ipykernel)",
   "language": "python",
   "name": "python3"
  },
  "language_info": {
   "codemirror_mode": {
    "name": "ipython",
    "version": 3
   },
   "file_extension": ".py",
   "mimetype": "text/x-python",
   "name": "python",
   "nbconvert_exporter": "python",
   "pygments_lexer": "ipython3",
   "version": "3.8.10"
  }
 },
 "nbformat": 4,
 "nbformat_minor": 5
}

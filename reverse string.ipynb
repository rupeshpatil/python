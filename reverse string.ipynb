{
 "cells": [
  {
   "cell_type": "code",
   "execution_count": 12,
   "metadata": {},
   "outputs": [
    {
     "data": {
      "text/plain": [
       "'litaprhspeur'"
      ]
     },
     "execution_count": 12,
     "metadata": {},
     "output_type": "execute_result"
    }
   ],
   "source": [
    "\n",
    "s = \"ruepshrpatil\"\n",
    "\n",
    "def reverse(s): \n",
    "  st = \"\" \n",
    "  for i in s: \n",
    "    st = i + st\n",
    "  return st\n",
    "reverse(s)"
   ]
  },
  {
   "cell_type": "code",
   "execution_count": 2,
   "metadata": {},
   "outputs": [
    {
     "name": "stdout",
     "output_type": "stream",
     "text": [
      "litaprhspeur\n"
     ]
    }
   ],
   "source": [
    "s = \"ruepshrpatil\"\n",
    "s[::-1]\n",
    "print(s)\n"
   ]
  },
  {
   "cell_type": "code",
   "execution_count": 17,
   "metadata": {},
   "outputs": [
    {
     "data": {
      "text/plain": [
       "'litaprhspeur'"
      ]
     },
     "execution_count": 17,
     "metadata": {},
     "output_type": "execute_result"
    }
   ],
   "source": [
    "st = \"ruepshrpatil\"\n",
    "lst = []\n",
    "for s in st:\n",
    "    lst.append(s)\n",
    "lst.reverse()\n",
    "\"\".join(lst)"
   ]
  },
  {
   "cell_type": "code",
   "execution_count": 20,
   "metadata": {},
   "outputs": [
    {
     "data": {
      "text/plain": [
       "'litaprhspeur'"
      ]
     },
     "execution_count": 20,
     "metadata": {},
     "output_type": "execute_result"
    }
   ],
   "source": [
    "def rev_fun(s):\n",
    "    if len(s) ==0:\n",
    "        return s\n",
    "    else:\n",
    "        return reverse(s[1:]) + s[0]\n",
    "st = \"ruepshrpatil\"\n",
    "rev_fun(st)"
   ]
  },
  {
   "cell_type": "code",
   "execution_count": null,
   "metadata": {},
   "outputs": [],
   "source": []
  }
 ],
 "metadata": {
  "kernelspec": {
   "display_name": "Python 3 (ipykernel)",
   "language": "python",
   "name": "python3"
  },
  "language_info": {
   "codemirror_mode": {
    "name": "ipython",
    "version": 3
   },
   "file_extension": ".py",
   "mimetype": "text/x-python",
   "name": "python",
   "nbconvert_exporter": "python",
   "pygments_lexer": "ipython3",
   "version": "3.8.10"
  }
 },
 "nbformat": 4,
 "nbformat_minor": 4
}

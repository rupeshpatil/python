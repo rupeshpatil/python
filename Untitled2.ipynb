{
 "cells": [
  {
   "cell_type": "code",
   "execution_count": 1,
   "metadata": {},
   "outputs": [
    {
     "name": "stdout",
     "output_type": "stream",
     "text": [
      "Reset done for: 12\n",
      "DB connection made for:  12\n",
      "staticmethod\n",
      "staticmethod\n"
     ]
    }
   ],
   "source": [
    "IND = 'ON'\n",
    " \n",
    "class Kls(object):\n",
    "    def __init__(self, data):\n",
    "        self.data = data\n",
    " \n",
    "    @staticmethod\n",
    "    def checkind():\n",
    "        return (IND == 'ON')\n",
    "    \n",
    "    @classmethod\n",
    "    def check(cls):\n",
    "        print(\"class method\")\n",
    " \n",
    "    def do_reset(self):\n",
    "        if self.checkind():\n",
    "            print('Reset done for:', self.data)\n",
    " \n",
    "    def set_db(self):\n",
    "        if self.checkind():\n",
    "            self.db = 'New db connection'\n",
    "        print('DB connection made for: ', self.data)\n",
    " \n",
    "ik1 = Kls(12)\n",
    "ik1.do_reset()\n",
    "ik1.set_db()\n",
    "ik1.check()\n",
    "Kls.check()"
   ]
  }
 ],
 "metadata": {
  "kernelspec": {
   "display_name": "Python 3",
   "language": "python",
   "name": "python3"
  },
  "language_info": {
   "codemirror_mode": {
    "name": "ipython",
    "version": 3
   },
   "file_extension": ".py",
   "mimetype": "text/x-python",
   "name": "python",
   "nbconvert_exporter": "python",
   "pygments_lexer": "ipython3",
   "version": "3.6.9"
  }
 },
 "nbformat": 4,
 "nbformat_minor": 4
}

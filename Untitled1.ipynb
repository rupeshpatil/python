{
 "cells": [
  {
   "cell_type": "code",
   "execution_count": 2,
   "metadata": {},
   "outputs": [
    {
     "name": "stdout",
     "output_type": "stream",
     "text": [
      "[113, 109, 107, 103, 101, 97, 89, 83, 79, 73, 71, 67]\n",
      "['q', 'F', 'R', 'E', 'E', 'N']\n",
      "['m', 'F', 'R', 'E', 'E', 'N']\n",
      "['k', 'F', 'R', 'E', 'E', 'N']\n",
      "['g', 'F', 'R', 'E', 'E', 'N']\n",
      "['e', 'F', 'R', 'E', 'E', 'N']\n",
      "['a', 'F', 'R', 'E', 'E', 'N']\n",
      "['Y', 'F', 'R', 'E', 'E', 'N']\n",
      "['S', 'F', 'R', 'E', 'E', 'N']\n",
      "['O', 'F', 'R', 'E', 'E', 'N']\n",
      "['I', 'F', 'R', 'E', 'E', 'N']\n",
      "['G', 'F', 'R', 'E', 'E', 'N']\n",
      "['C', 'F', 'R', 'E', 'E', 'N']\n",
      "['C', 'q', 'R', 'E', 'E', 'N']\n",
      "['C', 'm', 'R', 'E', 'E', 'N']\n",
      "['C', 'k', 'R', 'E', 'E', 'N']\n",
      "['C', 'g', 'R', 'E', 'E', 'N']\n",
      "['C', 'e', 'R', 'E', 'E', 'N']\n",
      "['C', 'a', 'R', 'E', 'E', 'N']\n",
      "['C', 'Y', 'R', 'E', 'E', 'N']\n",
      "['C', 'S', 'R', 'E', 'E', 'N']\n",
      "['C', 'O', 'R', 'E', 'E', 'N']\n",
      "['C', 'I', 'R', 'E', 'E', 'N']\n",
      "['C', 'G', 'R', 'E', 'E', 'N']\n",
      "['C', 'G', 'q', 'E', 'E', 'N']\n",
      "['C', 'G', 'm', 'E', 'E', 'N']\n",
      "['C', 'G', 'k', 'E', 'E', 'N']\n",
      "['C', 'G', 'g', 'E', 'E', 'N']\n",
      "['C', 'G', 'e', 'E', 'E', 'N']\n",
      "['C', 'G', 'a', 'E', 'E', 'N']\n",
      "['C', 'G', 'Y', 'E', 'E', 'N']\n",
      "['C', 'G', 'S', 'E', 'E', 'N']\n",
      "['C', 'G', 'S', 'q', 'E', 'N']\n",
      "['C', 'G', 'S', 'm', 'E', 'N']\n",
      "['C', 'G', 'S', 'k', 'E', 'N']\n",
      "['C', 'G', 'S', 'g', 'E', 'N']\n",
      "['C', 'G', 'S', 'e', 'E', 'N']\n",
      "['C', 'G', 'S', 'a', 'E', 'N']\n",
      "['C', 'G', 'S', 'Y', 'E', 'N']\n",
      "['C', 'G', 'S', 'S', 'E', 'N']\n",
      "['C', 'G', 'S', 'O', 'E', 'N']\n",
      "['C', 'G', 'S', 'I', 'E', 'N']\n",
      "['C', 'G', 'S', 'G', 'E', 'N']\n",
      "['C', 'G', 'S', 'C', 'E', 'N']\n",
      "['C', 'G', 'S', 'C', 'q', 'N']\n",
      "['C', 'G', 'S', 'C', 'm', 'N']\n",
      "['C', 'G', 'S', 'C', 'k', 'N']\n",
      "['C', 'G', 'S', 'C', 'g', 'N']\n",
      "['C', 'G', 'S', 'C', 'e', 'N']\n",
      "['C', 'G', 'S', 'C', 'a', 'N']\n",
      "['C', 'G', 'S', 'C', 'Y', 'N']\n",
      "['C', 'G', 'S', 'C', 'S', 'N']\n",
      "['C', 'G', 'S', 'C', 'O', 'N']\n",
      "['C', 'G', 'S', 'C', 'I', 'N']\n",
      "['C', 'G', 'S', 'C', 'G', 'N']\n",
      "['C', 'G', 'S', 'C', 'C', 'N']\n",
      "['C', 'G', 'S', 'C', 'C', 'q']\n",
      "['C', 'G', 'S', 'C', 'C', 'm']\n",
      "['C', 'G', 'S', 'C', 'C', 'k']\n",
      "['C', 'G', 'S', 'C', 'C', 'g']\n",
      "['C', 'G', 'S', 'C', 'C', 'e']\n",
      "['C', 'G', 'S', 'C', 'C', 'a']\n",
      "['C', 'G', 'S', 'C', 'C', 'Y']\n",
      "['C', 'G', 'S', 'C', 'C', 'S']\n",
      "['C', 'G', 'S', 'C', 'C', 'O']\n",
      "CGSCCO\n"
     ]
    }
   ],
   "source": [
    "primes = [113, 109, 107, 103, 101, 97, 89, 83, 79, 73, 71, 67]\n",
    "t = 1\n",
    "for iterations in range(t):\n",
    "    string_length = 6\n",
    "    letters = \"AFREEN\"\n",
    "    letter_list = list(letters);\n",
    "    \n",
    "    for i in range(string_length):\n",
    "        smallest_diff = 1000;\n",
    "        my_prime = letter_list[i];\n",
    "        for p in primes:\n",
    "            if( abs(ord(letters[i]) - p) <= smallest_diff):\n",
    "                smallest_diff = abs(ord(letters[i]) - p);\n",
    "                my_prime = chr(p);\n",
    "                letter_list[i] = my_prime;\n",
    "                print(letter_list)\n",
    "    print(\"\".join(letter_list));"
   ]
  },
  {
   "cell_type": "code",
   "execution_count": null,
   "metadata": {
    "collapsed": true
   },
   "outputs": [],
   "source": []
  }
 ],
 "metadata": {
  "kernelspec": {
   "display_name": "Python 3",
   "language": "python",
   "name": "python3"
  },
  "language_info": {
   "codemirror_mode": {
    "name": "ipython",
    "version": 3
   },
   "file_extension": ".py",
   "mimetype": "text/x-python",
   "name": "python",
   "nbconvert_exporter": "python",
   "pygments_lexer": "ipython3",
   "version": "3.6.9"
  }
 },
 "nbformat": 4,
 "nbformat_minor": 1
}

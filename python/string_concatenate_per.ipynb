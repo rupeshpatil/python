{
 "cells": [
  {
   "cell_type": "code",
   "execution_count": 1,
   "metadata": {},
   "outputs": [
    {
     "name": "stdout",
     "output_type": "stream",
     "text": [
      "3.6.8 (default, Oct  7 2019, 12:59:55) \n",
      "[GCC 8.3.0]\n",
      "python using + slow\n",
      "0.0009239999999999249\n",
      "python % fast\n",
      "0.0006479999999999819\n",
      "python using {} fast\n",
      "0.00041900000000016924\n",
      "thequickbrownfoxjumpsoverthelazydog\n",
      "Python using join operator\n",
      "0.0013479999999999048\n"
     ]
    }
   ],
   "source": [
    "# String concatanation with \"+\" , \"%\", \"{}\". in python with performance \n",
    "import sys\n",
    "print(sys.version)\n",
    "\n",
    "import time\n",
    "# slow\n",
    "start = time.clock()\n",
    "v = '+'\n",
    "s = 'python using ' + v + ' slow'\n",
    "print(s)\n",
    "end = time.clock()\n",
    "print(end - start)\n",
    "\n",
    "# Using % operator  \n",
    "start = time.clock()\n",
    "\n",
    "# fast\n",
    "s = 'python %s fast' % '%'\n",
    "print(s)\n",
    "end = time.clock()\n",
    "print(end -start)\n",
    "\n",
    "# Using {} operator \n",
    "start = time.clock()\n",
    "s = 'python using {0} fast'.format(\"{}\")\n",
    "print(s)\n",
    "end = time.clock()\n",
    "print(end -start)\n",
    "\n",
    "# concatenate string using join operator\n",
    "start = time.clock()\n",
    "s = '' .join(['the', 'quick', 'brown', 'fox', 'jumps', 'over', 'the', 'lazy', 'dog'])\n",
    "print(s)\n",
    "print(\"Python using join operator\")\n",
    "end = time.clock()\n",
    "print(end -start)"
   ]
  },
  {
   "cell_type": "code",
   "execution_count": null,
   "metadata": {},
   "outputs": [],
   "source": []
  }
 ],
 "metadata": {
  "kernelspec": {
   "display_name": "Python 3",
   "language": "python",
   "name": "python3"
  },
  "language_info": {
   "codemirror_mode": {
    "name": "ipython",
    "version": 3
   },
   "file_extension": ".py",
   "mimetype": "text/x-python",
   "name": "python",
   "nbconvert_exporter": "python",
   "pygments_lexer": "ipython3",
   "version": "3.6.8"
  }
 },
 "nbformat": 4,
 "nbformat_minor": 1
}

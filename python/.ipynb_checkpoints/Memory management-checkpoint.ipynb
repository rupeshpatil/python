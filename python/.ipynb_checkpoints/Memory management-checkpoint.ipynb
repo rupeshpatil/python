{
 "cells": [
  {
   "cell_type": "code",
   "execution_count": 1,
   "metadata": {},
   "outputs": [
    {
     "name": "stdout",
     "output_type": "stream",
     "text": [
      "ID before update: 0xa68be0\n",
      "ID after update: 0xa68d20\n",
      "my_object location: 0x7f1ccba0be80\n",
      "my_object2 weak reference: <weakref at 0x7f1cc89e7ef8; to 'elephant' at 0x7f1ccba0be80>\n",
      "my_object2 weak reference: <weakref at 0x7f1cc89e7ef8; dead>\n"
     ]
    }
   ],
   "source": [
    "import weakref\n",
    "class elephant():\n",
    "    pass\n",
    "\n",
    "#SLIDE 1\n",
    "\n",
    "#Initializing an int and a string\n",
    "my_int1 = 10\n",
    "my_object = elephant()\n",
    "\n",
    "#SLIDE 2\n",
    "\n",
    "#Displaying id before update\n",
    "print(\"ID before update:\", hex(id(my_int1)))\n",
    "#Updating my_int1 value\n",
    "my_int1 *= 2\n",
    "#Displaying id after update\n",
    "print(\"ID after update:\", hex(id(my_int1)))\n",
    "\n",
    "#Creating a weak reference to my_string\n",
    "my_object2 = weakref.ref(my_object)\n",
    "#my_string and my_string2 points to same memory location\n",
    "print(\"my_object location:\", hex(id(my_object)))\n",
    "print(\"my_object2 weak reference:\", my_object2)\n",
    "\n",
    "#SLIDE 3\n",
    "\n",
    "#Removing my_string reference\n",
    "my_object = None\n",
    "\n",
    "#SLIDE 4\n",
    "\n",
    "#my_string2 points to dead space\n",
    "print(\"my_object2 weak reference:\", my_object2)"
   ]
  },
  {
   "cell_type": "raw",
   "metadata": {},
   "source": [
    "Two objects are created.\n",
    "my_object is a strong reference to the object elephant.\n",
    "It can be observed that the address of my_int1 changes after it is updated.\n",
    "A weak reference is created to my_object. This weak reference does not increase the number of references to the object, it just shows its location. Therefore, we need at least one strong reference to keep the object alive, otherwise, the Garbage Collector destroys it to optimize memory.\n",
    "When my_object is no longer pointing to the object elephant, references to this object are equal to 00.\n",
    "Consequently, the ​Garbage Collector removed the object."
   ]
  },
  {
   "cell_type": "markdown",
   "metadata": {},
   "source": [
    "# Best Practices for Efficient Python Code\n"
   ]
  },
  {
   "cell_type": "markdown",
   "metadata": {},
   "source": [
    "Use joins for adding items onto lists\n"
   ]
  },
  {
   "cell_type": "code",
   "execution_count": 4,
   "metadata": {},
   "outputs": [
    {
     "data": {
      "text/plain": [
       "'line1\\nline2'"
      ]
     },
     "execution_count": 4,
     "metadata": {},
     "output_type": "execute_result"
    }
   ],
   "source": [
    "mymsg='line1\\n'\n",
    "mymsg+='line2\\n'\n",
    "\n",
    "# Use below code instead of above code\n",
    "\n",
    "mymsg=['line1','line2']\n",
    "'\\n'.join(mymsg)"
   ]
  },
  {
   "cell_type": "markdown",
   "metadata": {},
   "source": [
    "Avoid using the + operator for strings"
   ]
  },
  {
   "cell_type": "code",
   "execution_count": 7,
   "metadata": {},
   "outputs": [],
   "source": [
    "mymsg='line1\\n'\n",
    "msg='hello'+mymsg+'world'\n",
    "\n",
    "\n",
    "#Better choice\n",
    "msg='hello %s world' % mymsg"
   ]
  },
  {
   "cell_type": "markdown",
   "metadata": {},
   "source": [
    "Use Generators"
   ]
  },
  {
   "cell_type": "markdown",
   "metadata": {},
   "source": [
    "Put evaluations outside the loop"
   ]
  },
  {
   "cell_type": "raw",
   "metadata": {},
   "source": [
    "match_regex=re.compile(“foo|bar”)\n",
    "for i in big_it:\n",
    "     m = match_regex.search(i)\n",
    "         …."
   ]
  },
  {
   "cell_type": "markdown",
   "metadata": {},
   "source": [
    "Assign a function to a local variable"
   ]
  },
  {
   "cell_type": "raw",
   "metadata": {},
   "source": [
    "myLocalFunc=myObj.func\n",
    "for i in range(n):\n",
    "    myLocalFunc(i)"
   ]
  },
  {
   "cell_type": "markdown",
   "metadata": {},
   "source": [
    "Use built-in functions and libraries\n",
    "\n",
    "Use built-in functions and libraries whenever you can. Built-in functions are often implemented using the best memory usage practices."
   ]
  },
  {
   "cell_type": "raw",
   "metadata": {},
   "source": [
    "mylist=[]\n",
    "for myword in oldlist:\n",
    "      mylist.append(myword.upper())\n",
    "\n",
    "# Better choice        \n",
    "mylist=map(str.lower, oldlist)"
   ]
  },
  {
   "cell_type": "code",
   "execution_count": null,
   "metadata": {},
   "outputs": [],
   "source": []
  }
 ],
 "metadata": {
  "kernelspec": {
   "display_name": "Python 3",
   "language": "python",
   "name": "python3"
  },
  "language_info": {
   "codemirror_mode": {
    "name": "ipython",
    "version": 3
   },
   "file_extension": ".py",
   "mimetype": "text/x-python",
   "name": "python",
   "nbconvert_exporter": "python",
   "pygments_lexer": "ipython3",
   "version": "3.6.9"
  }
 },
 "nbformat": 4,
 "nbformat_minor": 4
}

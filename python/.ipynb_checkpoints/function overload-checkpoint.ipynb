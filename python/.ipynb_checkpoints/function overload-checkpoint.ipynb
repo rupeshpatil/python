{
 "cells": [
  {
   "cell_type": "code",
   "execution_count": 38,
   "metadata": {},
   "outputs": [
    {
     "data": {
      "text/plain": [
       "4"
      ]
     },
     "execution_count": 38,
     "metadata": {},
     "output_type": "execute_result"
    }
   ],
   "source": [
    "# Method Overloading\n",
    "\n",
    "# Polymorphism without interhertence \n",
    "\n",
    "# Style of dynamic typing in which  an objects methods \n",
    "# and properties determine the valid semantics rahter than its inhertence\n",
    "\n",
    "def func(a,b):\n",
    "  return a+b \n",
    "\n",
    "func(1,2)\n",
    "# func([1,2],[1,2,3])\n",
    "# func('apple',\"orange\")\n",
    "\n",
    "# Function Overload \n",
    "class A:\n",
    "    def add(self,a,b):\n",
    "        return a+b\n",
    "    \n",
    "    def add(self, a,b,c=0):\n",
    "        return a+b+c\n",
    "    \n",
    "obj= A()\n",
    "obj.add(2,2,4)\n",
    "\n",
    "# In the class if function names are same then it will override function with its parameters.\n",
    "\n",
    "# class A:\n",
    "#     def add(self,a,b):\n",
    "#         return a+b\n",
    "#     def add(self, a,b,c):\n",
    "#         return a+b+c\n",
    "    \n",
    "  \n",
    "    \n",
    "# obj= A()\n",
    "# obj.add(2,2)\n",
    "\n",
    "\n",
    "class A:\n",
    "    \n",
    "    def add(self, a,b,c):\n",
    "        return a+b+c\n",
    "    \n",
    "    def add(self,a,b):\n",
    "        return a+b\n",
    "\n",
    "   \n",
    "  \n",
    "    \n",
    "obj= A()\n",
    "obj.add(2,2)"
   ]
  },
  {
   "cell_type": "code",
   "execution_count": 26,
   "metadata": {},
   "outputs": [
    {
     "data": {
      "text/plain": [
       "[1, 3, 5]"
      ]
     },
     "execution_count": 26,
     "metadata": {},
     "output_type": "execute_result"
    }
   ],
   "source": [
    "a = [1,3,5]\n",
    "a[:6:1]"
   ]
  }
 ],
 "metadata": {
  "kernelspec": {
   "display_name": "Python 3",
   "language": "python",
   "name": "python3"
  },
  "language_info": {
   "codemirror_mode": {
    "name": "ipython",
    "version": 3
   },
   "file_extension": ".py",
   "mimetype": "text/x-python",
   "name": "python",
   "nbconvert_exporter": "python",
   "pygments_lexer": "ipython3",
   "version": "3.6.9"
  }
 },
 "nbformat": 4,
 "nbformat_minor": 4
}

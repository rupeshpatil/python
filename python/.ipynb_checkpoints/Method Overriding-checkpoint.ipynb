{
 "cells": [
  {
   "cell_type": "code",
   "execution_count": 9,
   "metadata": {},
   "outputs": [
    {
     "name": "stdout",
     "output_type": "stream",
     "text": [
      "Base Class 5\n"
     ]
    }
   ],
   "source": [
    "class A: \n",
    "\n",
    "  def display(self, num):\n",
    "     print(\"Base Class\", num)\n",
    "   \n",
    "# Class B inherits Class A\n",
    "class B(A): # Sub Class\n",
    "\n",
    "  def display(self, num):\n",
    "    print (\"derived class\", num)\n",
    "  \n",
    "obj = A()\n",
    "obj.display(5)\n"
   ]
  }
 ],
 "metadata": {
  "kernelspec": {
   "display_name": "Python 3",
   "language": "python",
   "name": "python3"
  },
  "language_info": {
   "codemirror_mode": {
    "name": "ipython",
    "version": 3
   },
   "file_extension": ".py",
   "mimetype": "text/x-python",
   "name": "python",
   "nbconvert_exporter": "python",
   "pygments_lexer": "ipython3",
   "version": "3.6.9"
  }
 },
 "nbformat": 4,
 "nbformat_minor": 4
}

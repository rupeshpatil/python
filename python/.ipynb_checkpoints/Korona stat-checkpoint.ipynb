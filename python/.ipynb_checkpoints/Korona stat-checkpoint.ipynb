{
 "cells": [
  {
   "cell_type": "code",
   "execution_count": null,
   "metadata": {},
   "outputs": [],
   "source": [
    "import requests \n",
    "from bs4 import BeautifulSoup \n",
    "from tabulate import tabulate \n",
    "import os \n",
    "import numpy as np \n",
    "import matplotlib.pyplot as plt \n",
    "\n",
    "\n",
    "extract_contents = lambda row: [x.text.replace('\\n', '') for x in row] \n",
    "URL = 'https://www.mohfw.gov.in/'\n",
    "\n",
    "SHORT_HEADERS = ['SNo', 'State','Indian-Confirmed', \n",
    "\t\t\t\t'Foreign-Confirmed','Cured','Death'] \n",
    "\n",
    "response = requests.get(URL).content \n",
    "soup = BeautifulSoup(response, 'html.parser') \n",
    "header = extract_contents(soup.tr.find_all('th')) \n",
    "stats = [] \n",
    "all_rows = soup.find_all('tr') \n",
    "\n",
    "for row in all_rows: \n",
    "\tstat = extract_contents(row.find_all('td')) \n",
    "\tif stat: \n",
    "\t\tif len(stat) == 5: \n",
    "\t\t\t# last row \n",
    "\t\t\tstat = ['', *stat] \n",
    "\t\t\tstats.append(stat) \n",
    "\t\telif len(stat) == 6: \n",
    "\t\t\tstats.append(stat) \n",
    "\n",
    "stats[-1][1] = \"Total Cases\"\n",
    "\n",
    "stats.remove(stats[-1]) \n",
    "\n",
    "\n",
    "objects = [] \n",
    "for row in stats : \n",
    "\tobjects.append(row[1]) \n",
    "\n",
    "y_pos = np.arange(len(objects)) \n",
    "\n",
    "performance = [] \n",
    "for row in stats : \n",
    "\tperformance.append(int(row[2]) + int(row[3])) \n",
    "\n",
    "table = tabulate(stats, headers=SHORT_HEADERS) \n",
    "print(table) \n",
    "\n",
    "\n"
   ]
  },
  {
   "cell_type": "code",
   "execution_count": null,
   "metadata": {},
   "outputs": [],
   "source": [
    "l\n"
   ]
  }
 ],
 "metadata": {
  "kernelspec": {
   "display_name": "Python 3",
   "language": "python",
   "name": "python3"
  },
  "language_info": {
   "codemirror_mode": {
    "name": "ipython",
    "version": 3
   },
   "file_extension": ".py",
   "mimetype": "text/x-python",
   "name": "python",
   "nbconvert_exporter": "python",
   "pygments_lexer": "ipython3",
   "version": "3.6.9"
  }
 },
 "nbformat": 4,
 "nbformat_minor": 4
}

{
 "cells": [
  {
   "cell_type": "code",
   "execution_count": 8,
   "metadata": {},
   "outputs": [
    {
     "name": "stdout",
     "output_type": "stream",
     "text": [
      "slower 0.0003169999999999007\n",
      "faster 0.00016799999999994597\n"
     ]
    }
   ],
   "source": [
    "# Dictionary search operation with key and performance \n",
    "# Use try catch for key existence in dictionary instead of checking key in dictionary\n",
    "\n",
    "import time\n",
    "# slower\n",
    "start = time.clock()\n",
    "mydict = {'g':1,'e':1,'e':1,'k':1}\n",
    "word = 'asdasdadaegdsadkaesd'\n",
    "for w in word:\n",
    "    if w not in mydict:\n",
    "        mydict[w] = 0\n",
    "    mydict[w] += 1\n",
    "end = time.clock()\n",
    "print(\"slower\", end-start)\n",
    " \n",
    "#\n",
    "# faster\n",
    "\n",
    "mydict = {'g':1,'e':1,'e':1,'k':1}\n",
    "word = 'asdasdadaegdsadkaesd'\n",
    "\n",
    "start = time.clock()\n",
    "for w in word:\n",
    "    try:\n",
    "        mydict[w] += 1\n",
    "    except KeyError:\n",
    "        mydict[w] = 1\n",
    "end = time.clock()\n",
    "print(\"faster\", end-start)"
   ]
  },
  {
   "cell_type": "code",
   "execution_count": null,
   "metadata": {},
   "outputs": [],
   "source": []
  },
  {
   "cell_type": "code",
   "execution_count": null,
   "metadata": {},
   "outputs": [],
   "source": []
  }
 ],
 "metadata": {
  "kernelspec": {
   "display_name": "Python 3",
   "language": "python",
   "name": "python3"
  },
  "language_info": {
   "codemirror_mode": {
    "name": "ipython",
    "version": 3
   },
   "file_extension": ".py",
   "mimetype": "text/x-python",
   "name": "python",
   "nbconvert_exporter": "python",
   "pygments_lexer": "ipython3",
   "version": "3.6.8"
  }
 },
 "nbformat": 4,
 "nbformat_minor": 2
}

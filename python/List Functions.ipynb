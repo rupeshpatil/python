{
 "cells": [
  {
   "cell_type": "code",
   "execution_count": 1,
   "metadata": {},
   "outputs": [
    {
     "name": "stdout",
     "output_type": "stream",
     "text": [
      "The index of e: 1\n",
      "The index of i: 2\n"
     ]
    }
   ],
   "source": [
    "# The index() method searches an element in the list and returns its index.\n",
    "\n",
    "# vowels list\n",
    "vowels = ['a', 'e', 'i', 'o', 'i', 'u']\n",
    "\n",
    "# index of 'e'\n",
    "index = vowels.index('e')\n",
    "print('The index of e:', index)\n",
    "\n",
    "# index of the first 'i'\n",
    "index = vowels.index('i')\n",
    "print('The index of i:', index)"
   ]
  },
  {
   "cell_type": "code",
   "execution_count": 2,
   "metadata": {},
   "outputs": [
    {
     "name": "stdout",
     "output_type": "stream",
     "text": [
      "['a', 'e', 'i', 'o', 'i', 'u', 'f']\n"
     ]
    }
   ],
   "source": [
    "# The append() method adds an item to the end of the list.\n",
    "vowels = ['a', 'e', 'i', 'o', 'i', 'u']\n",
    "vowels.append('f')\n",
    "print(vowels)"
   ]
  },
  {
   "cell_type": "code",
   "execution_count": 13,
   "metadata": {},
   "outputs": [
    {
     "name": "stdout",
     "output_type": "stream",
     "text": [
      "['a', 'e', 'i', 'o', 'i', 'u', 'f']\n"
     ]
    }
   ],
   "source": [
    "# The extend() extends the list by adding all items of a list (passed as an argument) to the end.\n",
    "vowels = ['a', 'e', 'i', 'o', 'i', 'u']\n",
    "vowels.extend(['f'])\n",
    "print(vowels)"
   ]
  },
  {
   "cell_type": "code",
   "execution_count": 14,
   "metadata": {},
   "outputs": [
    {
     "name": "stdout",
     "output_type": "stream",
     "text": [
      "[['f'], 'a', 'e', 'i', 'o', 'i', 'u']\n"
     ]
    }
   ],
   "source": [
    "# The insert() method inserts an element to the list at a given index.\n",
    "vowels = ['a', 'e', 'i', 'o', 'i', 'u']\n",
    "vowels.insert(0,['f'])\n",
    "print(vowels)"
   ]
  },
  {
   "cell_type": "code",
   "execution_count": 15,
   "metadata": {},
   "outputs": [
    {
     "name": "stdout",
     "output_type": "stream",
     "text": [
      "['a', 'e', 'o', 'i', 'u']\n"
     ]
    }
   ],
   "source": [
    "# The remove() method removes the first matching element (which is passed as an argument) from the list.\n",
    "vowels = ['a', 'e', 'i', 'o', 'i', 'u']\n",
    "vowels.remove('i')\n",
    "print(vowels)"
   ]
  },
  {
   "cell_type": "code",
   "execution_count": 18,
   "metadata": {},
   "outputs": [
    {
     "name": "stdout",
     "output_type": "stream",
     "text": [
      "2\n"
     ]
    }
   ],
   "source": [
    "# The count() method returns the number of occurrences of an element in a list.\n",
    "vowels = ['a', 'e', 'i', 'o', 'i', 'u']\n",
    "s= vowels.count('i')\n",
    "print(s)"
   ]
  },
  {
   "cell_type": "code",
   "execution_count": 19,
   "metadata": {},
   "outputs": [
    {
     "name": "stdout",
     "output_type": "stream",
     "text": [
      "a\n"
     ]
    }
   ],
   "source": [
    "# The pop() method removes the item at the given index from the list and returns the removed item.\n",
    "vowels = ['a', 'e', 'i', 'o', 'i', 'u']\n",
    "s= vowels.pop(0)\n",
    "print(s)"
   ]
  },
  {
   "cell_type": "code",
   "execution_count": 21,
   "metadata": {},
   "outputs": [
    {
     "name": "stdout",
     "output_type": "stream",
     "text": [
      "['u', 'i', 'o', 'i', 'e', 'a']\n"
     ]
    }
   ],
   "source": [
    "# The reverse() function doesn't return any value. It only reverses the elements and updates the list.\n",
    "vowels = ['a', 'e', 'i', 'o', 'i', 'u']\n",
    "vowels.reverse()\n",
    "print(vowels)"
   ]
  },
  {
   "cell_type": "code",
   "execution_count": null,
   "metadata": {},
   "outputs": [],
   "source": [
    "vowels = ['a', 'e', 'i', 'o', 'i', 'u']\n",
    "vowels.sort()\n",
    "print(vowels)"
   ]
  }
 ],
 "metadata": {
  "kernelspec": {
   "display_name": "Python 3",
   "language": "python",
   "name": "python3"
  },
  "language_info": {
   "codemirror_mode": {
    "name": "ipython",
    "version": 3
   },
   "file_extension": ".py",
   "mimetype": "text/x-python",
   "name": "python",
   "nbconvert_exporter": "python",
   "pygments_lexer": "ipython3",
   "version": "3.6.9"
  }
 },
 "nbformat": 4,
 "nbformat_minor": 4
}
